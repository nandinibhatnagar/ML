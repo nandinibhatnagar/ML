{
 "cells": [
  {
   "cell_type": "code",
   "execution_count": 1,
   "id": "4cc8534c",
   "metadata": {},
   "outputs": [],
   "source": [
    "import numpy as np\n",
    "import pandas as pd"
   ]
  },
  {
   "cell_type": "code",
   "execution_count": 2,
   "id": "a08de207",
   "metadata": {},
   "outputs": [
    {
     "data": {
      "text/html": [
       "<div>\n",
       "<style scoped>\n",
       "    .dataframe tbody tr th:only-of-type {\n",
       "        vertical-align: middle;\n",
       "    }\n",
       "\n",
       "    .dataframe tbody tr th {\n",
       "        vertical-align: top;\n",
       "    }\n",
       "\n",
       "    .dataframe thead th {\n",
       "        text-align: right;\n",
       "    }\n",
       "</style>\n",
       "<table border=\"1\" class=\"dataframe\">\n",
       "  <thead>\n",
       "    <tr style=\"text-align: right;\">\n",
       "      <th></th>\n",
       "      <th>Category</th>\n",
       "      <th>Message</th>\n",
       "    </tr>\n",
       "  </thead>\n",
       "  <tbody>\n",
       "    <tr>\n",
       "      <th>0</th>\n",
       "      <td>ham</td>\n",
       "      <td>Go until jurong point, crazy.. Available only ...</td>\n",
       "    </tr>\n",
       "    <tr>\n",
       "      <th>1</th>\n",
       "      <td>ham</td>\n",
       "      <td>Ok lar... Joking wif u oni...</td>\n",
       "    </tr>\n",
       "    <tr>\n",
       "      <th>2</th>\n",
       "      <td>spam</td>\n",
       "      <td>Free entry in 2 a wkly comp to win FA Cup fina...</td>\n",
       "    </tr>\n",
       "    <tr>\n",
       "      <th>3</th>\n",
       "      <td>ham</td>\n",
       "      <td>U dun say so early hor... U c already then say...</td>\n",
       "    </tr>\n",
       "    <tr>\n",
       "      <th>4</th>\n",
       "      <td>ham</td>\n",
       "      <td>Nah I don't think he goes to usf, he lives aro...</td>\n",
       "    </tr>\n",
       "    <tr>\n",
       "      <th>...</th>\n",
       "      <td>...</td>\n",
       "      <td>...</td>\n",
       "    </tr>\n",
       "    <tr>\n",
       "      <th>5567</th>\n",
       "      <td>spam</td>\n",
       "      <td>This is the 2nd time we have tried 2 contact u...</td>\n",
       "    </tr>\n",
       "    <tr>\n",
       "      <th>5568</th>\n",
       "      <td>ham</td>\n",
       "      <td>Will ü b going to esplanade fr home?</td>\n",
       "    </tr>\n",
       "    <tr>\n",
       "      <th>5569</th>\n",
       "      <td>ham</td>\n",
       "      <td>Pity, * was in mood for that. So...any other s...</td>\n",
       "    </tr>\n",
       "    <tr>\n",
       "      <th>5570</th>\n",
       "      <td>ham</td>\n",
       "      <td>The guy did some bitching but I acted like i'd...</td>\n",
       "    </tr>\n",
       "    <tr>\n",
       "      <th>5571</th>\n",
       "      <td>ham</td>\n",
       "      <td>Rofl. Its true to its name</td>\n",
       "    </tr>\n",
       "  </tbody>\n",
       "</table>\n",
       "<p>5572 rows × 2 columns</p>\n",
       "</div>"
      ],
      "text/plain": [
       "     Category                                            Message\n",
       "0         ham  Go until jurong point, crazy.. Available only ...\n",
       "1         ham                      Ok lar... Joking wif u oni...\n",
       "2        spam  Free entry in 2 a wkly comp to win FA Cup fina...\n",
       "3         ham  U dun say so early hor... U c already then say...\n",
       "4         ham  Nah I don't think he goes to usf, he lives aro...\n",
       "...       ...                                                ...\n",
       "5567     spam  This is the 2nd time we have tried 2 contact u...\n",
       "5568      ham               Will ü b going to esplanade fr home?\n",
       "5569      ham  Pity, * was in mood for that. So...any other s...\n",
       "5570      ham  The guy did some bitching but I acted like i'd...\n",
       "5571      ham                         Rofl. Its true to its name\n",
       "\n",
       "[5572 rows x 2 columns]"
      ]
     },
     "execution_count": 2,
     "metadata": {},
     "output_type": "execute_result"
    }
   ],
   "source": [
    "df=pd.read_csv(\"amanjha_spam.csv\")\n",
    "df"
   ]
  },
  {
   "cell_type": "code",
   "execution_count": 3,
   "id": "45be97dc",
   "metadata": {},
   "outputs": [
    {
     "name": "stdout",
     "output_type": "stream",
     "text": [
      "<class 'pandas.core.frame.DataFrame'>\n",
      "RangeIndex: 5572 entries, 0 to 5571\n",
      "Data columns (total 2 columns):\n",
      " #   Column    Non-Null Count  Dtype \n",
      "---  ------    --------------  ----- \n",
      " 0   Category  5572 non-null   object\n",
      " 1   Message   5572 non-null   object\n",
      "dtypes: object(2)\n",
      "memory usage: 87.2+ KB\n"
     ]
    }
   ],
   "source": [
    "df.info()"
   ]
  },
  {
   "cell_type": "code",
   "execution_count": 4,
   "id": "d678a897",
   "metadata": {},
   "outputs": [
    {
     "data": {
      "text/html": [
       "<div>\n",
       "<style scoped>\n",
       "    .dataframe tbody tr th:only-of-type {\n",
       "        vertical-align: middle;\n",
       "    }\n",
       "\n",
       "    .dataframe tbody tr th {\n",
       "        vertical-align: top;\n",
       "    }\n",
       "\n",
       "    .dataframe thead th {\n",
       "        text-align: right;\n",
       "    }\n",
       "</style>\n",
       "<table border=\"1\" class=\"dataframe\">\n",
       "  <thead>\n",
       "    <tr style=\"text-align: right;\">\n",
       "      <th></th>\n",
       "      <th>target</th>\n",
       "      <th>text</th>\n",
       "    </tr>\n",
       "  </thead>\n",
       "  <tbody>\n",
       "    <tr>\n",
       "      <th>5114</th>\n",
       "      <td>ham</td>\n",
       "      <td>Argh why the fuck is nobody in town ;_;</td>\n",
       "    </tr>\n",
       "    <tr>\n",
       "      <th>1811</th>\n",
       "      <td>ham</td>\n",
       "      <td>Now, whats your house # again ? And do you hav...</td>\n",
       "    </tr>\n",
       "    <tr>\n",
       "      <th>2711</th>\n",
       "      <td>spam</td>\n",
       "      <td>Hope you enjoyed your new content. text stop t...</td>\n",
       "    </tr>\n",
       "    <tr>\n",
       "      <th>191</th>\n",
       "      <td>spam</td>\n",
       "      <td>Are you unique enough? Find out from 30th Augu...</td>\n",
       "    </tr>\n",
       "    <tr>\n",
       "      <th>3810</th>\n",
       "      <td>ham</td>\n",
       "      <td>At the funeral home with Audrey and dad</td>\n",
       "    </tr>\n",
       "  </tbody>\n",
       "</table>\n",
       "</div>"
      ],
      "text/plain": [
       "     target                                               text\n",
       "5114    ham            Argh why the fuck is nobody in town ;_;\n",
       "1811    ham  Now, whats your house # again ? And do you hav...\n",
       "2711   spam  Hope you enjoyed your new content. text stop t...\n",
       "191    spam  Are you unique enough? Find out from 30th Augu...\n",
       "3810    ham            At the funeral home with Audrey and dad"
      ]
     },
     "execution_count": 4,
     "metadata": {},
     "output_type": "execute_result"
    }
   ],
   "source": [
    "df.rename(columns={\"Category\":\"target\",\"Message\":\"text\"},inplace=True)\n",
    "df.sample(5)"
   ]
  },
  {
   "cell_type": "code",
   "execution_count": 5,
   "id": "cb463ab3",
   "metadata": {},
   "outputs": [],
   "source": [
    "from sklearn.preprocessing import LabelEncoder\n",
    "encoder=LabelEncoder()"
   ]
  },
  {
   "cell_type": "code",
   "execution_count": 6,
   "id": "2b406005",
   "metadata": {},
   "outputs": [],
   "source": [
    "df[\"target\"]=encoder.fit_transform(df[\"target\"])"
   ]
  },
  {
   "cell_type": "code",
   "execution_count": 7,
   "id": "74a19d0f",
   "metadata": {},
   "outputs": [
    {
     "data": {
      "text/html": [
       "<div>\n",
       "<style scoped>\n",
       "    .dataframe tbody tr th:only-of-type {\n",
       "        vertical-align: middle;\n",
       "    }\n",
       "\n",
       "    .dataframe tbody tr th {\n",
       "        vertical-align: top;\n",
       "    }\n",
       "\n",
       "    .dataframe thead th {\n",
       "        text-align: right;\n",
       "    }\n",
       "</style>\n",
       "<table border=\"1\" class=\"dataframe\">\n",
       "  <thead>\n",
       "    <tr style=\"text-align: right;\">\n",
       "      <th></th>\n",
       "      <th>target</th>\n",
       "      <th>text</th>\n",
       "    </tr>\n",
       "  </thead>\n",
       "  <tbody>\n",
       "    <tr>\n",
       "      <th>0</th>\n",
       "      <td>0</td>\n",
       "      <td>Go until jurong point, crazy.. Available only ...</td>\n",
       "    </tr>\n",
       "    <tr>\n",
       "      <th>1</th>\n",
       "      <td>0</td>\n",
       "      <td>Ok lar... Joking wif u oni...</td>\n",
       "    </tr>\n",
       "    <tr>\n",
       "      <th>2</th>\n",
       "      <td>1</td>\n",
       "      <td>Free entry in 2 a wkly comp to win FA Cup fina...</td>\n",
       "    </tr>\n",
       "    <tr>\n",
       "      <th>3</th>\n",
       "      <td>0</td>\n",
       "      <td>U dun say so early hor... U c already then say...</td>\n",
       "    </tr>\n",
       "    <tr>\n",
       "      <th>4</th>\n",
       "      <td>0</td>\n",
       "      <td>Nah I don't think he goes to usf, he lives aro...</td>\n",
       "    </tr>\n",
       "  </tbody>\n",
       "</table>\n",
       "</div>"
      ],
      "text/plain": [
       "   target                                               text\n",
       "0       0  Go until jurong point, crazy.. Available only ...\n",
       "1       0                      Ok lar... Joking wif u oni...\n",
       "2       1  Free entry in 2 a wkly comp to win FA Cup fina...\n",
       "3       0  U dun say so early hor... U c already then say...\n",
       "4       0  Nah I don't think he goes to usf, he lives aro..."
      ]
     },
     "execution_count": 7,
     "metadata": {},
     "output_type": "execute_result"
    }
   ],
   "source": [
    "df.head()"
   ]
  },
  {
   "cell_type": "code",
   "execution_count": 8,
   "id": "28835c90",
   "metadata": {},
   "outputs": [
    {
     "data": {
      "text/plain": [
       "target    0\n",
       "text      0\n",
       "dtype: int64"
      ]
     },
     "execution_count": 8,
     "metadata": {},
     "output_type": "execute_result"
    }
   ],
   "source": [
    "df.isnull().sum()"
   ]
  },
  {
   "cell_type": "code",
   "execution_count": 9,
   "id": "f8b9d1c5",
   "metadata": {},
   "outputs": [
    {
     "data": {
      "text/plain": [
       "415"
      ]
     },
     "execution_count": 9,
     "metadata": {},
     "output_type": "execute_result"
    }
   ],
   "source": [
    "df.duplicated().sum()"
   ]
  },
  {
   "cell_type": "code",
   "execution_count": 10,
   "id": "bda7e27b",
   "metadata": {},
   "outputs": [],
   "source": [
    "df=df.drop_duplicates(keep=\"first\")"
   ]
  },
  {
   "cell_type": "code",
   "execution_count": 11,
   "id": "9379595c",
   "metadata": {},
   "outputs": [
    {
     "data": {
      "text/plain": [
       "0"
      ]
     },
     "execution_count": 11,
     "metadata": {},
     "output_type": "execute_result"
    }
   ],
   "source": [
    "df.duplicated().sum()"
   ]
  },
  {
   "cell_type": "code",
   "execution_count": 12,
   "id": "35999c39",
   "metadata": {},
   "outputs": [
    {
     "data": {
      "text/plain": [
       "(5157, 2)"
      ]
     },
     "execution_count": 12,
     "metadata": {},
     "output_type": "execute_result"
    }
   ],
   "source": [
    "df.shape"
   ]
  },
  {
   "cell_type": "code",
   "execution_count": 13,
   "id": "048d0dcf",
   "metadata": {},
   "outputs": [
    {
     "data": {
      "text/plain": [
       "target\n",
       "0    4516\n",
       "1     641\n",
       "Name: count, dtype: int64"
      ]
     },
     "execution_count": 13,
     "metadata": {},
     "output_type": "execute_result"
    }
   ],
   "source": [
    "df[\"target\"].value_counts()"
   ]
  },
  {
   "cell_type": "code",
   "execution_count": 14,
   "id": "f1da406e",
   "metadata": {},
   "outputs": [
    {
     "data": {
      "image/png": "[encoded data removed]",
      "text/plain": [
       "<Figure size 640x480 with 1 Axes>"
      ]
     },
     "metadata": {},
     "output_type": "display_data"
    }
   ],
   "source": [
    "import matplotlib.pyplot as plt\n",
    "plt.pie(df[\"target\"].value_counts(),labels=[\"ham\",\"spam\"],autopct=\"%0.2f\")\n",
    "plt.show()"
   ]
  },
  {
   "cell_type": "code",
   "execution_count": 15,
   "id": "133de22a",
   "metadata": {},
   "outputs": [],
   "source": [
    "import nltk"
   ]
  },
  {
   "cell_type": "code",
   "execution_count": 16,
   "id": "598724aa",
   "metadata": {},
   "outputs": [
    {
     "name": "stderr",
     "output_type": "stream",
     "text": [
      "[nltk_data] Downloading package punkt to\n",
      "[nltk_data]     C:\\Users\\DELL\\AppData\\Roaming\\nltk_data...\n",
      "[nltk_data]   Package punkt is already up-to-date!\n"
     ]
    },
    {
     "data": {
      "text/plain": [
       "True"
      ]
     },
     "execution_count": 16,
     "metadata": {},
     "output_type": "execute_result"
    }
   ],
   "source": [
    "nltk.download(\"punkt\")"
   ]
  },
  {
   "cell_type": "code",
   "execution_count": 17,
   "id": "a51c6031",
   "metadata": {},
   "outputs": [
    {
     "data": {
      "text/plain": [
       "0       111\n",
       "1        29\n",
       "2       155\n",
       "3        49\n",
       "4        61\n",
       "       ... \n",
       "5567    160\n",
       "5568     36\n",
       "5569     57\n",
       "5570    125\n",
       "5571     26\n",
       "Name: text, Length: 5157, dtype: int64"
      ]
     },
     "execution_count": 17,
     "metadata": {},
     "output_type": "execute_result"
    }
   ],
   "source": [
    "df[\"text\"].apply(len)"
   ]
  },
  {
   "cell_type": "code",
   "execution_count": 18,
   "id": "fa70ba65",
   "metadata": {},
   "outputs": [
    {
     "name": "stderr",
     "output_type": "stream",
     "text": [
      "C:\\Users\\DELL\\AppData\\Local\\Temp\\ipykernel_8172\\3309080630.py:1: SettingWithCopyWarning: \n",
      "A value is trying to be set on a copy of a slice from a DataFrame.\n",
      "Try using .loc[row_indexer,col_indexer] = value instead\n",
      "\n",
      "See the caveats in the documentation: https://pandas.pydata.org/pandas-docs/stable/user_guide/indexing.html#returning-a-view-versus-a-copy\n",
      "  df[\"num_characters\"]=df[\"text\"].apply(len)\n"
     ]
    }
   ],
   "source": [
    "df[\"num_characters\"]=df[\"text\"].apply(len)"
   ]
  },
  {
   "cell_type": "code",
   "execution_count": 19,
   "id": "7c77aefd",
   "metadata": {},
   "outputs": [
    {
     "data": {
      "text/html": [
       "<div>\n",
       "<style scoped>\n",
       "    .dataframe tbody tr th:only-of-type {\n",
       "        vertical-align: middle;\n",
       "    }\n",
       "\n",
       "    .dataframe tbody tr th {\n",
       "        vertical-align: top;\n",
       "    }\n",
       "\n",
       "    .dataframe thead th {\n",
       "        text-align: right;\n",
       "    }\n",
       "</style>\n",
       "<table border=\"1\" class=\"dataframe\">\n",
       "  <thead>\n",
       "    <tr style=\"text-align: right;\">\n",
       "      <th></th>\n",
       "      <th>target</th>\n",
       "      <th>text</th>\n",
       "      <th>num_characters</th>\n",
       "    </tr>\n",
       "  </thead>\n",
       "  <tbody>\n",
       "    <tr>\n",
       "      <th>0</th>\n",
       "      <td>0</td>\n",
       "      <td>Go until jurong point, crazy.. Available only ...</td>\n",
       "      <td>111</td>\n",
       "    </tr>\n",
       "    <tr>\n",
       "      <th>1</th>\n",
       "      <td>0</td>\n",
       "      <td>Ok lar... Joking wif u oni...</td>\n",
       "      <td>29</td>\n",
       "    </tr>\n",
       "    <tr>\n",
       "      <th>2</th>\n",
       "      <td>1</td>\n",
       "      <td>Free entry in 2 a wkly comp to win FA Cup fina...</td>\n",
       "      <td>155</td>\n",
       "    </tr>\n",
       "    <tr>\n",
       "      <th>3</th>\n",
       "      <td>0</td>\n",
       "      <td>U dun say so early hor... U c already then say...</td>\n",
       "      <td>49</td>\n",
       "    </tr>\n",
       "    <tr>\n",
       "      <th>4</th>\n",
       "      <td>0</td>\n",
       "      <td>Nah I don't think he goes to usf, he lives aro...</td>\n",
       "      <td>61</td>\n",
       "    </tr>\n",
       "  </tbody>\n",
       "</table>\n",
       "</div>"
      ],
      "text/plain": [
       "   target                                               text  num_characters\n",
       "0       0  Go until jurong point, crazy.. Available only ...             111\n",
       "1       0                      Ok lar... Joking wif u oni...              29\n",
       "2       1  Free entry in 2 a wkly comp to win FA Cup fina...             155\n",
       "3       0  U dun say so early hor... U c already then say...              49\n",
       "4       0  Nah I don't think he goes to usf, he lives aro...              61"
      ]
     },
     "execution_count": 19,
     "metadata": {},
     "output_type": "execute_result"
    }
   ],
   "source": [
    "df.head()"
   ]
  },
  {
   "cell_type": "code",
   "execution_count": 20,
   "id": "d65e1755",
   "metadata": {},
   "outputs": [
    {
     "data": {
      "text/plain": [
       "0       [Go, until, jurong, point, ,, crazy, .., Avail...\n",
       "1                [Ok, lar, ..., Joking, wif, u, oni, ...]\n",
       "2       [Free, entry, in, 2, a, wkly, comp, to, win, F...\n",
       "3       [U, dun, say, so, early, hor, ..., U, c, alrea...\n",
       "4       [Nah, I, do, n't, think, he, goes, to, usf, ,,...\n",
       "                              ...                        \n",
       "5567    [This, is, the, 2nd, time, we, have, tried, 2,...\n",
       "5568      [Will, ü, b, going, to, esplanade, fr, home, ?]\n",
       "5569    [Pity, ,, *, was, in, mood, for, that, ., So, ...\n",
       "5570    [The, guy, did, some, bitching, but, I, acted,...\n",
       "5571                  [Rofl, ., Its, true, to, its, name]\n",
       "Name: text, Length: 5157, dtype: object"
      ]
     },
     "execution_count": 20,
     "metadata": {},
     "output_type": "execute_result"
    }
   ],
   "source": [
    "df[\"text\"].apply(lambda x:nltk.word_tokenize(x))"
   ]
  },
  {
   "cell_type": "code",
   "execution_count": 21,
   "id": "baa92dfc",
   "metadata": {},
   "outputs": [
    {
     "name": "stderr",
     "output_type": "stream",
     "text": [
      "C:\\Users\\DELL\\AppData\\Local\\Temp\\ipykernel_8172\\350621772.py:1: SettingWithCopyWarning: \n",
      "A value is trying to be set on a copy of a slice from a DataFrame.\n",
      "Try using .loc[row_indexer,col_indexer] = value instead\n",
      "\n",
      "See the caveats in the documentation: https://pandas.pydata.org/pandas-docs/stable/user_guide/indexing.html#returning-a-view-versus-a-copy\n",
      "  df[\"num_words\"]=df[\"text\"].apply(lambda x:nltk.word_tokenize(x))\n"
     ]
    }
   ],
   "source": [
    "df[\"num_words\"]=df[\"text\"].apply(lambda x:nltk.word_tokenize(x))"
   ]
  },
  {
   "cell_type": "code",
   "execution_count": 22,
   "id": "328163ed",
   "metadata": {},
   "outputs": [
    {
     "data": {
      "text/html": [
       "<div>\n",
       "<style scoped>\n",
       "    .dataframe tbody tr th:only-of-type {\n",
       "        vertical-align: middle;\n",
       "    }\n",
       "\n",
       "    .dataframe tbody tr th {\n",
       "        vertical-align: top;\n",
       "    }\n",
       "\n",
       "    .dataframe thead th {\n",
       "        text-align: right;\n",
       "    }\n",
       "</style>\n",
       "<table border=\"1\" class=\"dataframe\">\n",
       "  <thead>\n",
       "    <tr style=\"text-align: right;\">\n",
       "      <th></th>\n",
       "      <th>target</th>\n",
       "      <th>text</th>\n",
       "      <th>num_characters</th>\n",
       "      <th>num_words</th>\n",
       "    </tr>\n",
       "  </thead>\n",
       "  <tbody>\n",
       "    <tr>\n",
       "      <th>0</th>\n",
       "      <td>0</td>\n",
       "      <td>Go until jurong point, crazy.. Available only ...</td>\n",
       "      <td>111</td>\n",
       "      <td>[Go, until, jurong, point, ,, crazy, .., Avail...</td>\n",
       "    </tr>\n",
       "    <tr>\n",
       "      <th>1</th>\n",
       "      <td>0</td>\n",
       "      <td>Ok lar... Joking wif u oni...</td>\n",
       "      <td>29</td>\n",
       "      <td>[Ok, lar, ..., Joking, wif, u, oni, ...]</td>\n",
       "    </tr>\n",
       "    <tr>\n",
       "      <th>2</th>\n",
       "      <td>1</td>\n",
       "      <td>Free entry in 2 a wkly comp to win FA Cup fina...</td>\n",
       "      <td>155</td>\n",
       "      <td>[Free, entry, in, 2, a, wkly, comp, to, win, F...</td>\n",
       "    </tr>\n",
       "    <tr>\n",
       "      <th>3</th>\n",
       "      <td>0</td>\n",
       "      <td>U dun say so early hor... U c already then say...</td>\n",
       "      <td>49</td>\n",
       "      <td>[U, dun, say, so, early, hor, ..., U, c, alrea...</td>\n",
       "    </tr>\n",
       "    <tr>\n",
       "      <th>4</th>\n",
       "      <td>0</td>\n",
       "      <td>Nah I don't think he goes to usf, he lives aro...</td>\n",
       "      <td>61</td>\n",
       "      <td>[Nah, I, do, n't, think, he, goes, to, usf, ,,...</td>\n",
       "    </tr>\n",
       "  </tbody>\n",
       "</table>\n",
       "</div>"
      ],
      "text/plain": [
       "   target                                               text  num_characters  \\\n",
       "0       0  Go until jurong point, crazy.. Available only ...             111   \n",
       "1       0                      Ok lar... Joking wif u oni...              29   \n",
       "2       1  Free entry in 2 a wkly comp to win FA Cup fina...             155   \n",
       "3       0  U dun say so early hor... U c already then say...              49   \n",
       "4       0  Nah I don't think he goes to usf, he lives aro...              61   \n",
       "\n",
       "                                           num_words  \n",
       "0  [Go, until, jurong, point, ,, crazy, .., Avail...  \n",
       "1           [Ok, lar, ..., Joking, wif, u, oni, ...]  \n",
       "2  [Free, entry, in, 2, a, wkly, comp, to, win, F...  \n",
       "3  [U, dun, say, so, early, hor, ..., U, c, alrea...  \n",
       "4  [Nah, I, do, n't, think, he, goes, to, usf, ,,...  "
      ]
     },
     "execution_count": 22,
     "metadata": {},
     "output_type": "execute_result"
    }
   ],
   "source": [
    "df.head()"
   ]
  },
  {
   "cell_type": "code",
   "execution_count": 23,
   "id": "bdf5e174",
   "metadata": {},
   "outputs": [
    {
     "data": {
      "text/plain": [
       "0       2\n",
       "1       2\n",
       "2       2\n",
       "3       1\n",
       "4       1\n",
       "       ..\n",
       "5567    4\n",
       "5568    1\n",
       "5569    2\n",
       "5570    1\n",
       "5571    2\n",
       "Name: text, Length: 5157, dtype: int64"
      ]
     },
     "execution_count": 23,
     "metadata": {},
     "output_type": "execute_result"
    }
   ],
   "source": [
    "df[\"text\"].apply(lambda x:len(nltk.sent_tokenize(x)))"
   ]
  },
  {
   "cell_type": "code",
   "execution_count": 24,
   "id": "4ae50908",
   "metadata": {},
   "outputs": [
    {
     "name": "stderr",
     "output_type": "stream",
     "text": [
      "C:\\Users\\DELL\\AppData\\Local\\Temp\\ipykernel_8172\\1558380898.py:1: SettingWithCopyWarning: \n",
      "A value is trying to be set on a copy of a slice from a DataFrame.\n",
      "Try using .loc[row_indexer,col_indexer] = value instead\n",
      "\n",
      "See the caveats in the documentation: https://pandas.pydata.org/pandas-docs/stable/user_guide/indexing.html#returning-a-view-versus-a-copy\n",
      "  df[\"num_words\"]=df[\"text\"].apply(lambda x:len(nltk.word_tokenize(x)))\n"
     ]
    }
   ],
   "source": [
    "df[\"num_words\"]=df[\"text\"].apply(lambda x:len(nltk.word_tokenize(x)))"
   ]
  },
  {
   "cell_type": "code",
   "execution_count": 25,
   "id": "cfeca0eb",
   "metadata": {},
   "outputs": [
    {
     "data": {
      "text/html": [
       "<div>\n",
       "<style scoped>\n",
       "    .dataframe tbody tr th:only-of-type {\n",
       "        vertical-align: middle;\n",
       "    }\n",
       "\n",
       "    .dataframe tbody tr th {\n",
       "        vertical-align: top;\n",
       "    }\n",
       "\n",
       "    .dataframe thead th {\n",
       "        text-align: right;\n",
       "    }\n",
       "</style>\n",
       "<table border=\"1\" class=\"dataframe\">\n",
       "  <thead>\n",
       "    <tr style=\"text-align: right;\">\n",
       "      <th></th>\n",
       "      <th>target</th>\n",
       "      <th>text</th>\n",
       "      <th>num_characters</th>\n",
       "      <th>num_words</th>\n",
       "    </tr>\n",
       "  </thead>\n",
       "  <tbody>\n",
       "    <tr>\n",
       "      <th>0</th>\n",
       "      <td>0</td>\n",
       "      <td>Go until jurong point, crazy.. Available only ...</td>\n",
       "      <td>111</td>\n",
       "      <td>24</td>\n",
       "    </tr>\n",
       "    <tr>\n",
       "      <th>1</th>\n",
       "      <td>0</td>\n",
       "      <td>Ok lar... Joking wif u oni...</td>\n",
       "      <td>29</td>\n",
       "      <td>8</td>\n",
       "    </tr>\n",
       "    <tr>\n",
       "      <th>2</th>\n",
       "      <td>1</td>\n",
       "      <td>Free entry in 2 a wkly comp to win FA Cup fina...</td>\n",
       "      <td>155</td>\n",
       "      <td>37</td>\n",
       "    </tr>\n",
       "    <tr>\n",
       "      <th>3</th>\n",
       "      <td>0</td>\n",
       "      <td>U dun say so early hor... U c already then say...</td>\n",
       "      <td>49</td>\n",
       "      <td>13</td>\n",
       "    </tr>\n",
       "    <tr>\n",
       "      <th>4</th>\n",
       "      <td>0</td>\n",
       "      <td>Nah I don't think he goes to usf, he lives aro...</td>\n",
       "      <td>61</td>\n",
       "      <td>15</td>\n",
       "    </tr>\n",
       "  </tbody>\n",
       "</table>\n",
       "</div>"
      ],
      "text/plain": [
       "   target                                               text  num_characters  \\\n",
       "0       0  Go until jurong point, crazy.. Available only ...             111   \n",
       "1       0                      Ok lar... Joking wif u oni...              29   \n",
       "2       1  Free entry in 2 a wkly comp to win FA Cup fina...             155   \n",
       "3       0  U dun say so early hor... U c already then say...              49   \n",
       "4       0  Nah I don't think he goes to usf, he lives aro...              61   \n",
       "\n",
       "   num_words  \n",
       "0         24  \n",
       "1          8  \n",
       "2         37  \n",
       "3         13  \n",
       "4         15  "
      ]
     },
     "execution_count": 25,
     "metadata": {},
     "output_type": "execute_result"
    }
   ],
   "source": [
    "df.head()"
   ]
  },
  {
   "cell_type": "code",
   "execution_count": 26,
   "id": "497fdeae",
   "metadata": {},
   "outputs": [
    {
     "data": {
      "text/html": [
       "<div>\n",
       "<style scoped>\n",
       "    .dataframe tbody tr th:only-of-type {\n",
       "        vertical-align: middle;\n",
       "    }\n",
       "\n",
       "    .dataframe tbody tr th {\n",
       "        vertical-align: top;\n",
       "    }\n",
       "\n",
       "    .dataframe thead th {\n",
       "        text-align: right;\n",
       "    }\n",
       "</style>\n",
       "<table border=\"1\" class=\"dataframe\">\n",
       "  <thead>\n",
       "    <tr style=\"text-align: right;\">\n",
       "      <th></th>\n",
       "      <th>num_characters</th>\n",
       "      <th>num_words</th>\n",
       "    </tr>\n",
       "  </thead>\n",
       "  <tbody>\n",
       "    <tr>\n",
       "      <th>count</th>\n",
       "      <td>5157.000000</td>\n",
       "      <td>5157.000000</td>\n",
       "    </tr>\n",
       "    <tr>\n",
       "      <th>mean</th>\n",
       "      <td>79.103936</td>\n",
       "      <td>18.560403</td>\n",
       "    </tr>\n",
       "    <tr>\n",
       "      <th>std</th>\n",
       "      <td>58.382922</td>\n",
       "      <td>13.405970</td>\n",
       "    </tr>\n",
       "    <tr>\n",
       "      <th>min</th>\n",
       "      <td>2.000000</td>\n",
       "      <td>1.000000</td>\n",
       "    </tr>\n",
       "    <tr>\n",
       "      <th>25%</th>\n",
       "      <td>36.000000</td>\n",
       "      <td>9.000000</td>\n",
       "    </tr>\n",
       "    <tr>\n",
       "      <th>50%</th>\n",
       "      <td>61.000000</td>\n",
       "      <td>15.000000</td>\n",
       "    </tr>\n",
       "    <tr>\n",
       "      <th>75%</th>\n",
       "      <td>118.000000</td>\n",
       "      <td>26.000000</td>\n",
       "    </tr>\n",
       "    <tr>\n",
       "      <th>max</th>\n",
       "      <td>910.000000</td>\n",
       "      <td>220.000000</td>\n",
       "    </tr>\n",
       "  </tbody>\n",
       "</table>\n",
       "</div>"
      ],
      "text/plain": [
       "       num_characters    num_words\n",
       "count     5157.000000  5157.000000\n",
       "mean        79.103936    18.560403\n",
       "std         58.382922    13.405970\n",
       "min          2.000000     1.000000\n",
       "25%         36.000000     9.000000\n",
       "50%         61.000000    15.000000\n",
       "75%        118.000000    26.000000\n",
       "max        910.000000   220.000000"
      ]
     },
     "execution_count": 26,
     "metadata": {},
     "output_type": "execute_result"
    }
   ],
   "source": [
    "df[[\"num_characters\",\"num_words\"]].describe()"
   ]
  },
  {
   "cell_type": "code",
   "execution_count": 27,
   "id": "e2bf61f8",
   "metadata": {},
   "outputs": [],
   "source": [
    "import seaborn as sns"
   ]
  },
  {
   "cell_type": "code",
   "execution_count": 28,
   "id": "b14acbaf",
   "metadata": {},
   "outputs": [
    {
     "data": {
      "text/plain": [
       "<Axes: xlabel='num_characters', ylabel='Count'>"
      ]
     },
     "execution_count": 28,
     "metadata": {},
     "output_type": "execute_result"
    },
    {
     "data": {
      "image/png": "[encoded data removed]",
      "text/plain": [
       "<Figure size 640x480 with 1 Axes>"
      ]
     },
     "metadata": {},
     "output_type": "display_data"
    }
   ],
   "source": [
    "sns.histplot(df[df[\"target\"]==0][\"num_characters\"])\n",
    "sns.histplot(df[df[\"target\"]==1][\"num_characters\"],color=\"red\")"
   ]
  },
  {
   "cell_type": "code",
   "execution_count": 29,
   "id": "60baa37b",
   "metadata": {},
   "outputs": [
    {
     "ename": "ValueError",
     "evalue": "could not convert string to float: 'Go until jurong point, crazy.. Available only in bugis n great world la e buffet... Cine there got amore wat...'",
     "output_type": "error",
     "traceback": [
      "\u001b[1;31m---------------------------------------------------------------------------\u001b[0m",
      "\u001b[1;31mValueError\u001b[0m                                Traceback (most recent call last)",
      "Cell \u001b[1;32mIn[29], line 1\u001b[0m\n\u001b[1;32m----> 1\u001b[0m sns\u001b[38;5;241m.\u001b[39mheatmap(df\u001b[38;5;241m.\u001b[39mcorr(),annot\u001b[38;5;241m=\u001b[39m\u001b[38;5;28;01mTrue\u001b[39;00m)\n",
      "File \u001b[1;32m~\\anaconda3\\Lib\\site-packages\\pandas\\core\\frame.py:10054\u001b[0m, in \u001b[0;36mDataFrame.corr\u001b[1;34m(self, method, min_periods, numeric_only)\u001b[0m\n\u001b[0;32m  10052\u001b[0m cols \u001b[38;5;241m=\u001b[39m data\u001b[38;5;241m.\u001b[39mcolumns\n\u001b[0;32m  10053\u001b[0m idx \u001b[38;5;241m=\u001b[39m cols\u001b[38;5;241m.\u001b[39mcopy()\n\u001b[1;32m> 10054\u001b[0m mat \u001b[38;5;241m=\u001b[39m data\u001b[38;5;241m.\u001b[39mto_numpy(dtype\u001b[38;5;241m=\u001b[39m\u001b[38;5;28mfloat\u001b[39m, na_value\u001b[38;5;241m=\u001b[39mnp\u001b[38;5;241m.\u001b[39mnan, copy\u001b[38;5;241m=\u001b[39m\u001b[38;5;28;01mFalse\u001b[39;00m)\n\u001b[0;32m  10056\u001b[0m \u001b[38;5;28;01mif\u001b[39;00m method \u001b[38;5;241m==\u001b[39m \u001b[38;5;124m\"\u001b[39m\u001b[38;5;124mpearson\u001b[39m\u001b[38;5;124m\"\u001b[39m:\n\u001b[0;32m  10057\u001b[0m     correl \u001b[38;5;241m=\u001b[39m libalgos\u001b[38;5;241m.\u001b[39mnancorr(mat, minp\u001b[38;5;241m=\u001b[39mmin_periods)\n",
      "File \u001b[1;32m~\\anaconda3\\Lib\\site-packages\\pandas\\core\\frame.py:1838\u001b[0m, in \u001b[0;36mDataFrame.to_numpy\u001b[1;34m(self, dtype, copy, na_value)\u001b[0m\n\u001b[0;32m   1836\u001b[0m \u001b[38;5;28;01mif\u001b[39;00m dtype \u001b[38;5;129;01mis\u001b[39;00m \u001b[38;5;129;01mnot\u001b[39;00m \u001b[38;5;28;01mNone\u001b[39;00m:\n\u001b[0;32m   1837\u001b[0m     dtype \u001b[38;5;241m=\u001b[39m np\u001b[38;5;241m.\u001b[39mdtype(dtype)\n\u001b[1;32m-> 1838\u001b[0m result \u001b[38;5;241m=\u001b[39m \u001b[38;5;28mself\u001b[39m\u001b[38;5;241m.\u001b[39m_mgr\u001b[38;5;241m.\u001b[39mas_array(dtype\u001b[38;5;241m=\u001b[39mdtype, copy\u001b[38;5;241m=\u001b[39mcopy, na_value\u001b[38;5;241m=\u001b[39mna_value)\n\u001b[0;32m   1839\u001b[0m \u001b[38;5;28;01mif\u001b[39;00m result\u001b[38;5;241m.\u001b[39mdtype \u001b[38;5;129;01mis\u001b[39;00m \u001b[38;5;129;01mnot\u001b[39;00m dtype:\n\u001b[0;32m   1840\u001b[0m     result \u001b[38;5;241m=\u001b[39m np\u001b[38;5;241m.\u001b[39marray(result, dtype\u001b[38;5;241m=\u001b[39mdtype, copy\u001b[38;5;241m=\u001b[39m\u001b[38;5;28;01mFalse\u001b[39;00m)\n",
      "File \u001b[1;32m~\\anaconda3\\Lib\\site-packages\\pandas\\core\\internals\\managers.py:1732\u001b[0m, in \u001b[0;36mBlockManager.as_array\u001b[1;34m(self, dtype, copy, na_value)\u001b[0m\n\u001b[0;32m   1730\u001b[0m         arr\u001b[38;5;241m.\u001b[39mflags\u001b[38;5;241m.\u001b[39mwriteable \u001b[38;5;241m=\u001b[39m \u001b[38;5;28;01mFalse\u001b[39;00m\n\u001b[0;32m   1731\u001b[0m \u001b[38;5;28;01melse\u001b[39;00m:\n\u001b[1;32m-> 1732\u001b[0m     arr \u001b[38;5;241m=\u001b[39m \u001b[38;5;28mself\u001b[39m\u001b[38;5;241m.\u001b[39m_interleave(dtype\u001b[38;5;241m=\u001b[39mdtype, na_value\u001b[38;5;241m=\u001b[39mna_value)\n\u001b[0;32m   1733\u001b[0m     \u001b[38;5;66;03m# The underlying data was copied within _interleave, so no need\u001b[39;00m\n\u001b[0;32m   1734\u001b[0m     \u001b[38;5;66;03m# to further copy if copy=True or setting na_value\u001b[39;00m\n\u001b[0;32m   1736\u001b[0m \u001b[38;5;28;01mif\u001b[39;00m na_value \u001b[38;5;129;01mis\u001b[39;00m \u001b[38;5;129;01mnot\u001b[39;00m lib\u001b[38;5;241m.\u001b[39mno_default:\n",
      "File \u001b[1;32m~\\anaconda3\\Lib\\site-packages\\pandas\\core\\internals\\managers.py:1794\u001b[0m, in \u001b[0;36mBlockManager._interleave\u001b[1;34m(self, dtype, na_value)\u001b[0m\n\u001b[0;32m   1792\u001b[0m     \u001b[38;5;28;01melse\u001b[39;00m:\n\u001b[0;32m   1793\u001b[0m         arr \u001b[38;5;241m=\u001b[39m blk\u001b[38;5;241m.\u001b[39mget_values(dtype)\n\u001b[1;32m-> 1794\u001b[0m     result[rl\u001b[38;5;241m.\u001b[39mindexer] \u001b[38;5;241m=\u001b[39m arr\n\u001b[0;32m   1795\u001b[0m     itemmask[rl\u001b[38;5;241m.\u001b[39mindexer] \u001b[38;5;241m=\u001b[39m \u001b[38;5;241m1\u001b[39m\n\u001b[0;32m   1797\u001b[0m \u001b[38;5;28;01mif\u001b[39;00m \u001b[38;5;129;01mnot\u001b[39;00m itemmask\u001b[38;5;241m.\u001b[39mall():\n",
      "\u001b[1;31mValueError\u001b[0m: could not convert string to float: 'Go until jurong point, crazy.. Available only in bugis n great world la e buffet... Cine there got amore wat...'"
     ]
    }
   ],
   "source": [
    "sns.heatmap(df.corr(),annot=True)"
   ]
  },
  {
   "cell_type": "code",
   "execution_count": 30,
   "id": "8c5e4b61",
   "metadata": {},
   "outputs": [],
   "source": [
    "import string\n",
    "from nltk.stem import PorterStemmer\n",
    "ps = PorterStemmer()\n",
    "from nltk.corpus import stopwords\n",
    "def transform_text(text):\n",
    "    text=text.lower()\n",
    "    text=nltk.word_tokenize(text)\n",
    "    y=[]\n",
    "    for i in text:\n",
    "        if i.isalnum():\n",
    "            y.append(i)\n",
    "    text=y[:]\n",
    "    y.clear()\n",
    "    for i in text:\n",
    "        if i not in stopwords.words(\"english\") and i not in string.punctuation:\n",
    "            y.append(i)\n",
    "    text=y[:]\n",
    "    y.clear()\n",
    "    \n",
    "    for i in text:\n",
    "        y.append(ps.stem(i))\n",
    "            \n",
    "    return \" \".join(y)"
   ]
  },
  {
   "cell_type": "code",
   "execution_count": 31,
   "id": "4ac0e6a6",
   "metadata": {},
   "outputs": [
    {
     "name": "stderr",
     "output_type": "stream",
     "text": [
      "[nltk_data] Downloading package stopwords to\n",
      "[nltk_data]     C:\\Users\\DELL\\AppData\\Roaming\\nltk_data...\n",
      "[nltk_data]   Package stopwords is already up-to-date!\n"
     ]
    },
    {
     "data": {
      "text/plain": [
       "True"
      ]
     },
     "execution_count": 31,
     "metadata": {},
     "output_type": "execute_result"
    }
   ],
   "source": [
    "import nltk\n",
    "nltk.download('stopwords')"
   ]
  },
  {
   "cell_type": "code",
   "execution_count": 32,
   "id": "5202fb9a",
   "metadata": {},
   "outputs": [
    {
     "data": {
      "text/plain": [
       "['i',\n",
       " 'me',\n",
       " 'my',\n",
       " 'myself',\n",
       " 'we',\n",
       " 'our',\n",
       " 'ours',\n",
       " 'ourselves',\n",
       " 'you',\n",
       " \"you're\",\n",
       " \"you've\",\n",
       " \"you'll\",\n",
       " \"you'd\",\n",
       " 'your',\n",
       " 'yours',\n",
       " 'yourself',\n",
       " 'yourselves',\n",
       " 'he',\n",
       " 'him',\n",
       " 'his',\n",
       " 'himself',\n",
       " 'she',\n",
       " \"she's\",\n",
       " 'her',\n",
       " 'hers',\n",
       " 'herself',\n",
       " 'it',\n",
       " \"it's\",\n",
       " 'its',\n",
       " 'itself',\n",
       " 'they',\n",
       " 'them',\n",
       " 'their',\n",
       " 'theirs',\n",
       " 'themselves',\n",
       " 'what',\n",
       " 'which',\n",
       " 'who',\n",
       " 'whom',\n",
       " 'this',\n",
       " 'that',\n",
       " \"that'll\",\n",
       " 'these',\n",
       " 'those',\n",
       " 'am',\n",
       " 'is',\n",
       " 'are',\n",
       " 'was',\n",
       " 'were',\n",
       " 'be',\n",
       " 'been',\n",
       " 'being',\n",
       " 'have',\n",
       " 'has',\n",
       " 'had',\n",
       " 'having',\n",
       " 'do',\n",
       " 'does',\n",
       " 'did',\n",
       " 'doing',\n",
       " 'a',\n",
       " 'an',\n",
       " 'the',\n",
       " 'and',\n",
       " 'but',\n",
       " 'if',\n",
       " 'or',\n",
       " 'because',\n",
       " 'as',\n",
       " 'until',\n",
       " 'while',\n",
       " 'of',\n",
       " 'at',\n",
       " 'by',\n",
       " 'for',\n",
       " 'with',\n",
       " 'about',\n",
       " 'against',\n",
       " 'between',\n",
       " 'into',\n",
       " 'through',\n",
       " 'during',\n",
       " 'before',\n",
       " 'after',\n",
       " 'above',\n",
       " 'below',\n",
       " 'to',\n",
       " 'from',\n",
       " 'up',\n",
       " 'down',\n",
       " 'in',\n",
       " 'out',\n",
       " 'on',\n",
       " 'off',\n",
       " 'over',\n",
       " 'under',\n",
       " 'again',\n",
       " 'further',\n",
       " 'then',\n",
       " 'once',\n",
       " 'here',\n",
       " 'there',\n",
       " 'when',\n",
       " 'where',\n",
       " 'why',\n",
       " 'how',\n",
       " 'all',\n",
       " 'any',\n",
       " 'both',\n",
       " 'each',\n",
       " 'few',\n",
       " 'more',\n",
       " 'most',\n",
       " 'other',\n",
       " 'some',\n",
       " 'such',\n",
       " 'no',\n",
       " 'nor',\n",
       " 'not',\n",
       " 'only',\n",
       " 'own',\n",
       " 'same',\n",
       " 'so',\n",
       " 'than',\n",
       " 'too',\n",
       " 'very',\n",
       " 's',\n",
       " 't',\n",
       " 'can',\n",
       " 'will',\n",
       " 'just',\n",
       " 'don',\n",
       " \"don't\",\n",
       " 'should',\n",
       " \"should've\",\n",
       " 'now',\n",
       " 'd',\n",
       " 'll',\n",
       " 'm',\n",
       " 'o',\n",
       " 're',\n",
       " 've',\n",
       " 'y',\n",
       " 'ain',\n",
       " 'aren',\n",
       " \"aren't\",\n",
       " 'couldn',\n",
       " \"couldn't\",\n",
       " 'didn',\n",
       " \"didn't\",\n",
       " 'doesn',\n",
       " \"doesn't\",\n",
       " 'hadn',\n",
       " \"hadn't\",\n",
       " 'hasn',\n",
       " \"hasn't\",\n",
       " 'haven',\n",
       " \"haven't\",\n",
       " 'isn',\n",
       " \"isn't\",\n",
       " 'ma',\n",
       " 'mightn',\n",
       " \"mightn't\",\n",
       " 'mustn',\n",
       " \"mustn't\",\n",
       " 'needn',\n",
       " \"needn't\",\n",
       " 'shan',\n",
       " \"shan't\",\n",
       " 'shouldn',\n",
       " \"shouldn't\",\n",
       " 'wasn',\n",
       " \"wasn't\",\n",
       " 'weren',\n",
       " \"weren't\",\n",
       " 'won',\n",
       " \"won't\",\n",
       " 'wouldn',\n",
       " \"wouldn't\"]"
      ]
     },
     "execution_count": 32,
     "metadata": {},
     "output_type": "execute_result"
    }
   ],
   "source": [
    "from nltk.corpus import stopwords\n",
    "stopwords.words(\"english\")"
   ]
  },
  {
   "cell_type": "code",
   "execution_count": 33,
   "id": "b285bfbf",
   "metadata": {},
   "outputs": [
    {
     "data": {
      "text/plain": [
       "'like present yt'"
      ]
     },
     "execution_count": 33,
     "metadata": {},
     "output_type": "execute_result"
    }
   ],
   "source": [
    "transform_text(\"did you like my presentation on YT\")"
   ]
  },
  {
   "cell_type": "code",
   "execution_count": 34,
   "id": "d27fa0c4",
   "metadata": {},
   "outputs": [
    {
     "data": {
      "text/plain": [
       "\"Please don't text me anymore. I have nothing else to say.\""
      ]
     },
     "execution_count": 34,
     "metadata": {},
     "output_type": "execute_result"
    }
   ],
   "source": [
    "df[\"text\"][100]"
   ]
  },
  {
   "cell_type": "code",
   "execution_count": 35,
   "id": "1d2ad607",
   "metadata": {},
   "outputs": [
    {
     "data": {
      "text/plain": [
       "'love'"
      ]
     },
     "execution_count": 35,
     "metadata": {},
     "output_type": "execute_result"
    }
   ],
   "source": [
    "from nltk.stem.porter import PorterStemmer\n",
    "ps=PorterStemmer()\n",
    "ps.stem(\"loving\")"
   ]
  },
  {
   "cell_type": "code",
   "execution_count": 36,
   "id": "95b50696",
   "metadata": {},
   "outputs": [
    {
     "name": "stderr",
     "output_type": "stream",
     "text": [
      "C:\\Users\\DELL\\AppData\\Local\\Temp\\ipykernel_8172\\958737439.py:1: SettingWithCopyWarning: \n",
      "A value is trying to be set on a copy of a slice from a DataFrame.\n",
      "Try using .loc[row_indexer,col_indexer] = value instead\n",
      "\n",
      "See the caveats in the documentation: https://pandas.pydata.org/pandas-docs/stable/user_guide/indexing.html#returning-a-view-versus-a-copy\n",
      "  df[\"transformed_text\"]=df[\"text\"].apply(transform_text)\n"
     ]
    }
   ],
   "source": [
    "df[\"transformed_text\"]=df[\"text\"].apply(transform_text)"
   ]
  },
  {
   "cell_type": "code",
   "execution_count": 37,
   "id": "4fc98662",
   "metadata": {},
   "outputs": [
    {
     "data": {
      "text/html": [
       "<div>\n",
       "<style scoped>\n",
       "    .dataframe tbody tr th:only-of-type {\n",
       "        vertical-align: middle;\n",
       "    }\n",
       "\n",
       "    .dataframe tbody tr th {\n",
       "        vertical-align: top;\n",
       "    }\n",
       "\n",
       "    .dataframe thead th {\n",
       "        text-align: right;\n",
       "    }\n",
       "</style>\n",
       "<table border=\"1\" class=\"dataframe\">\n",
       "  <thead>\n",
       "    <tr style=\"text-align: right;\">\n",
       "      <th></th>\n",
       "      <th>target</th>\n",
       "      <th>text</th>\n",
       "      <th>num_characters</th>\n",
       "      <th>num_words</th>\n",
       "      <th>transformed_text</th>\n",
       "    </tr>\n",
       "  </thead>\n",
       "  <tbody>\n",
       "    <tr>\n",
       "      <th>0</th>\n",
       "      <td>0</td>\n",
       "      <td>Go until jurong point, crazy.. Available only ...</td>\n",
       "      <td>111</td>\n",
       "      <td>24</td>\n",
       "      <td>go jurong point crazi avail bugi n great world...</td>\n",
       "    </tr>\n",
       "    <tr>\n",
       "      <th>1</th>\n",
       "      <td>0</td>\n",
       "      <td>Ok lar... Joking wif u oni...</td>\n",
       "      <td>29</td>\n",
       "      <td>8</td>\n",
       "      <td>ok lar joke wif u oni</td>\n",
       "    </tr>\n",
       "    <tr>\n",
       "      <th>2</th>\n",
       "      <td>1</td>\n",
       "      <td>Free entry in 2 a wkly comp to win FA Cup fina...</td>\n",
       "      <td>155</td>\n",
       "      <td>37</td>\n",
       "      <td>free entri 2 wkli comp win fa cup final tkt 21...</td>\n",
       "    </tr>\n",
       "    <tr>\n",
       "      <th>3</th>\n",
       "      <td>0</td>\n",
       "      <td>U dun say so early hor... U c already then say...</td>\n",
       "      <td>49</td>\n",
       "      <td>13</td>\n",
       "      <td>u dun say earli hor u c alreadi say</td>\n",
       "    </tr>\n",
       "    <tr>\n",
       "      <th>4</th>\n",
       "      <td>0</td>\n",
       "      <td>Nah I don't think he goes to usf, he lives aro...</td>\n",
       "      <td>61</td>\n",
       "      <td>15</td>\n",
       "      <td>nah think goe usf live around though</td>\n",
       "    </tr>\n",
       "  </tbody>\n",
       "</table>\n",
       "</div>"
      ],
      "text/plain": [
       "   target                                               text  num_characters  \\\n",
       "0       0  Go until jurong point, crazy.. Available only ...             111   \n",
       "1       0                      Ok lar... Joking wif u oni...              29   \n",
       "2       1  Free entry in 2 a wkly comp to win FA Cup fina...             155   \n",
       "3       0  U dun say so early hor... U c already then say...              49   \n",
       "4       0  Nah I don't think he goes to usf, he lives aro...              61   \n",
       "\n",
       "   num_words                                   transformed_text  \n",
       "0         24  go jurong point crazi avail bugi n great world...  \n",
       "1          8                              ok lar joke wif u oni  \n",
       "2         37  free entri 2 wkli comp win fa cup final tkt 21...  \n",
       "3         13                u dun say earli hor u c alreadi say  \n",
       "4         15               nah think goe usf live around though  "
      ]
     },
     "execution_count": 37,
     "metadata": {},
     "output_type": "execute_result"
    }
   ],
   "source": [
    "\n",
    "df.head()"
   ]
  },
  {
   "cell_type": "code",
   "execution_count": 38,
   "id": "567afbd0",
   "metadata": {},
   "outputs": [
    {
     "name": "stdout",
     "output_type": "stream",
     "text": [
      "Requirement already satisfied: wordcloud in c:\\users\\dell\\anaconda3\\lib\\site-packages (1.9.3)\n",
      "Requirement already satisfied: numpy>=1.6.1 in c:\\users\\dell\\anaconda3\\lib\\site-packages (from wordcloud) (1.24.3)\n",
      "Requirement already satisfied: pillow in c:\\users\\dell\\anaconda3\\lib\\site-packages (from wordcloud) (9.4.0)\n",
      "Requirement already satisfied: matplotlib in c:\\users\\dell\\anaconda3\\lib\\site-packages (from wordcloud) (3.7.2)\n",
      "Requirement already satisfied: contourpy>=1.0.1 in c:\\users\\dell\\anaconda3\\lib\\site-packages (from matplotlib->wordcloud) (1.0.5)\n",
      "Requirement already satisfied: cycler>=0.10 in c:\\users\\dell\\anaconda3\\lib\\site-packages (from matplotlib->wordcloud) (0.11.0)\n",
      "Requirement already satisfied: fonttools>=4.22.0 in c:\\users\\dell\\anaconda3\\lib\\site-packages (from matplotlib->wordcloud) (4.25.0)\n",
      "Requirement already satisfied: kiwisolver>=1.0.1 in c:\\users\\dell\\anaconda3\\lib\\site-packages (from matplotlib->wordcloud) (1.4.4)\n",
      "Requirement already satisfied: packaging>=20.0 in c:\\users\\dell\\anaconda3\\lib\\site-packages (from matplotlib->wordcloud) (23.1)\n",
      "Requirement already satisfied: pyparsing<3.1,>=2.3.1 in c:\\users\\dell\\anaconda3\\lib\\site-packages (from matplotlib->wordcloud) (3.0.9)\n",
      "Requirement already satisfied: python-dateutil>=2.7 in c:\\users\\dell\\anaconda3\\lib\\site-packages (from matplotlib->wordcloud) (2.8.2)\n",
      "Requirement already satisfied: six>=1.5 in c:\\users\\dell\\anaconda3\\lib\\site-packages (from python-dateutil>=2.7->matplotlib->wordcloud) (1.16.0)\n"
     ]
    }
   ],
   "source": [
    "!pip install wordcloud"
   ]
  },
  {
   "cell_type": "code",
   "execution_count": 39,
   "id": "74cebfa6",
   "metadata": {},
   "outputs": [],
   "source": [
    "from wordcloud import WordCloud\n",
    "wc=WordCloud(width=500,height=500,min_font_size=10,background_color=\"white\")"
   ]
  },
  {
   "cell_type": "code",
   "execution_count": 40,
   "id": "fa75a9b6",
   "metadata": {},
   "outputs": [],
   "source": [
    "spam_wc=wc.generate(df[df[\"target\"]==1][\"transformed_text\"].str.cat(sep =\" \"))"
   ]
  },
  {
   "cell_type": "code",
   "execution_count": 41,
   "id": "2c880b79",
   "metadata": {},
   "outputs": [
    {
     "data": {
      "text/plain": [
       "<matplotlib.image.AxesImage at 0x275f1624550>"
      ]
     },
     "execution_count": 41,
     "metadata": {},
     "output_type": "execute_result"
    },
    {
     "data": {
      "image/png": "[encoded data removed]",
      "text/plain": [
       "<Figure size 640x480 with 1 Axes>"
      ]
     },
     "metadata": {},
     "output_type": "display_data"
    }
   ],
   "source": [
    "plt.imshow(spam_wc)"
   ]
  },
  {
   "cell_type": "code",
   "execution_count": 42,
   "id": "3acba88b",
   "metadata": {},
   "outputs": [],
   "source": [
    "ham_wc=wc.generate(df[df[\"target\"]==0][\"transformed_text\"].str.cat(sep =\" \"))"
   ]
  },
  {
   "cell_type": "code",
   "execution_count": 43,
   "id": "1dcf7bfa",
   "metadata": {},
   "outputs": [
    {
     "data": {
      "text/plain": [
       "<matplotlib.image.AxesImage at 0x275f16f9590>"
      ]
     },
     "execution_count": 43,
     "metadata": {},
     "output_type": "execute_result"
    },
    {
     "data": {
      "image/png": "[encoded data removed]",
      "text/plain": [
       "<Figure size 640x480 with 1 Axes>"
      ]
     },
     "metadata": {},
     "output_type": "display_data"
    }
   ],
   "source": [
    "plt.imshow(ham_wc)"
   ]
  },
  {
   "cell_type": "code",
   "execution_count": 44,
   "id": "9751de69",
   "metadata": {},
   "outputs": [],
   "source": [
    "spam_corpus=[]\n",
    "for msg in df[df[\"target\"]==1][\"transformed_text\"].tolist():\n",
    "    for word in msg.split():\n",
    "        spam_corpus.append(word)"
   ]
  },
  {
   "cell_type": "code",
   "execution_count": 45,
   "id": "d09a9f55",
   "metadata": {},
   "outputs": [
    {
     "data": {
      "text/plain": [
       "9781"
      ]
     },
     "execution_count": 45,
     "metadata": {},
     "output_type": "execute_result"
    }
   ],
   "source": [
    "len(spam_corpus)"
   ]
  },
  {
   "cell_type": "code",
   "execution_count": 46,
   "id": "f04e326b",
   "metadata": {},
   "outputs": [],
   "source": [
    "from collections import Counter"
   ]
  },
  {
   "cell_type": "code",
   "execution_count": 47,
   "id": "47ef10c8",
   "metadata": {},
   "outputs": [
    {
     "data": {
      "text/plain": [
       "<Axes: xlabel='0', ylabel='1'>"
      ]
     },
     "execution_count": 47,
     "metadata": {},
     "output_type": "execute_result"
    },
    {
     "data": {
      "image/png": "[encoded data removed]",
      "text/plain": [
       "<Figure size 640x480 with 1 Axes>"
      ]
     },
     "metadata": {},
     "output_type": "display_data"
    }
   ],
   "source": [
    "common_words = pd.DataFrame(Counter(spam_corpus).most_common(30))\n",
    "\n",
    "# Step 2: Plot using seaborn\n",
    "sns.barplot(x=common_words[0], y=common_words[1])"
   ]
  },
  {
   "cell_type": "code",
   "execution_count": 48,
   "id": "fe7a3600",
   "metadata": {},
   "outputs": [],
   "source": [
    "ham_corpus=[]\n",
    "for msg in df[df[\"target\"]==0][\"transformed_text\"].tolist():\n",
    "    for word in msg.split():\n",
    "        ham_corpus.append(word)"
   ]
  },
  {
   "cell_type": "code",
   "execution_count": 49,
   "id": "f2593d6a",
   "metadata": {},
   "outputs": [
    {
     "data": {
      "text/plain": [
       "35940"
      ]
     },
     "execution_count": 49,
     "metadata": {},
     "output_type": "execute_result"
    }
   ],
   "source": [
    "len(ham_corpus)"
   ]
  },
  {
   "cell_type": "code",
   "execution_count": 50,
   "id": "747a1772",
   "metadata": {},
   "outputs": [
    {
     "data": {
      "text/plain": [
       "<Axes: xlabel='0', ylabel='1'>"
      ]
     },
     "execution_count": 50,
     "metadata": {},
     "output_type": "execute_result"
    },
    {
     "data": {
      "image/png": "[encoded data removed]",
      "text/plain": [
       "<Figure size 640x480 with 1 Axes>"
      ]
     },
     "metadata": {},
     "output_type": "display_data"
    }
   ],
   "source": [
    "common_words = pd.DataFrame(Counter(ham_corpus).most_common(30))\n",
    "\n",
    "# Step 2: Plot using seaborn\n",
    "sns.barplot(x=common_words[0], y=common_words[1])"
   ]
  },
  {
   "cell_type": "code",
   "execution_count": 51,
   "id": "0bb43f72",
   "metadata": {},
   "outputs": [
    {
     "data": {
      "text/html": [
       "<div>\n",
       "<style scoped>\n",
       "    .dataframe tbody tr th:only-of-type {\n",
       "        vertical-align: middle;\n",
       "    }\n",
       "\n",
       "    .dataframe tbody tr th {\n",
       "        vertical-align: top;\n",
       "    }\n",
       "\n",
       "    .dataframe thead th {\n",
       "        text-align: right;\n",
       "    }\n",
       "</style>\n",
       "<table border=\"1\" class=\"dataframe\">\n",
       "  <thead>\n",
       "    <tr style=\"text-align: right;\">\n",
       "      <th></th>\n",
       "      <th>target</th>\n",
       "      <th>text</th>\n",
       "      <th>num_characters</th>\n",
       "      <th>num_words</th>\n",
       "      <th>transformed_text</th>\n",
       "    </tr>\n",
       "  </thead>\n",
       "  <tbody>\n",
       "    <tr>\n",
       "      <th>0</th>\n",
       "      <td>0</td>\n",
       "      <td>Go until jurong point, crazy.. Available only ...</td>\n",
       "      <td>111</td>\n",
       "      <td>24</td>\n",
       "      <td>go jurong point crazi avail bugi n great world...</td>\n",
       "    </tr>\n",
       "    <tr>\n",
       "      <th>1</th>\n",
       "      <td>0</td>\n",
       "      <td>Ok lar... Joking wif u oni...</td>\n",
       "      <td>29</td>\n",
       "      <td>8</td>\n",
       "      <td>ok lar joke wif u oni</td>\n",
       "    </tr>\n",
       "    <tr>\n",
       "      <th>2</th>\n",
       "      <td>1</td>\n",
       "      <td>Free entry in 2 a wkly comp to win FA Cup fina...</td>\n",
       "      <td>155</td>\n",
       "      <td>37</td>\n",
       "      <td>free entri 2 wkli comp win fa cup final tkt 21...</td>\n",
       "    </tr>\n",
       "    <tr>\n",
       "      <th>3</th>\n",
       "      <td>0</td>\n",
       "      <td>U dun say so early hor... U c already then say...</td>\n",
       "      <td>49</td>\n",
       "      <td>13</td>\n",
       "      <td>u dun say earli hor u c alreadi say</td>\n",
       "    </tr>\n",
       "    <tr>\n",
       "      <th>4</th>\n",
       "      <td>0</td>\n",
       "      <td>Nah I don't think he goes to usf, he lives aro...</td>\n",
       "      <td>61</td>\n",
       "      <td>15</td>\n",
       "      <td>nah think goe usf live around though</td>\n",
       "    </tr>\n",
       "  </tbody>\n",
       "</table>\n",
       "</div>"
      ],
      "text/plain": [
       "   target                                               text  num_characters  \\\n",
       "0       0  Go until jurong point, crazy.. Available only ...             111   \n",
       "1       0                      Ok lar... Joking wif u oni...              29   \n",
       "2       1  Free entry in 2 a wkly comp to win FA Cup fina...             155   \n",
       "3       0  U dun say so early hor... U c already then say...              49   \n",
       "4       0  Nah I don't think he goes to usf, he lives aro...              61   \n",
       "\n",
       "   num_words                                   transformed_text  \n",
       "0         24  go jurong point crazi avail bugi n great world...  \n",
       "1          8                              ok lar joke wif u oni  \n",
       "2         37  free entri 2 wkli comp win fa cup final tkt 21...  \n",
       "3         13                u dun say earli hor u c alreadi say  \n",
       "4         15               nah think goe usf live around though  "
      ]
     },
     "execution_count": 51,
     "metadata": {},
     "output_type": "execute_result"
    }
   ],
   "source": [
    "df.head()"
   ]
  },
  {
   "cell_type": "code",
   "execution_count": 52,
   "id": "061bb0eb",
   "metadata": {},
   "outputs": [],
   "source": [
    "# model building\n",
    "from sklearn.feature_extraction.text import CountVectorizer,TfidfVectorizer\n",
    "cv=CountVectorizer()\n",
    "tfidf=TfidfVectorizer()"
   ]
  },
  {
   "cell_type": "code",
   "execution_count": 53,
   "id": "ae512e53",
   "metadata": {},
   "outputs": [],
   "source": [
    "x=tfidf.fit_transform(df[\"transformed_text\"]).toarray()"
   ]
  },
  {
   "cell_type": "code",
   "execution_count": 54,
   "id": "441b7c7f",
   "metadata": {},
   "outputs": [
    {
     "data": {
      "text/plain": [
       "(5157, 6781)"
      ]
     },
     "execution_count": 54,
     "metadata": {},
     "output_type": "execute_result"
    }
   ],
   "source": [
    "x.shape"
   ]
  },
  {
   "cell_type": "code",
   "execution_count": 55,
   "id": "f4c387db",
   "metadata": {},
   "outputs": [],
   "source": [
    "y=df[\"target\"].values"
   ]
  },
  {
   "cell_type": "code",
   "execution_count": 56,
   "id": "f656b487",
   "metadata": {},
   "outputs": [
    {
     "data": {
      "text/plain": [
       "array([0, 0, 1, ..., 0, 0, 0])"
      ]
     },
     "execution_count": 56,
     "metadata": {},
     "output_type": "execute_result"
    }
   ],
   "source": [
    "y"
   ]
  },
  {
   "cell_type": "code",
   "execution_count": 57,
   "id": "6646b84c",
   "metadata": {},
   "outputs": [],
   "source": [
    "from sklearn.model_selection import train_test_split\n",
    "x_train,x_test,y_train,y_test=train_test_split(x,y,test_size=0.2,random_state=2)"
   ]
  },
  {
   "cell_type": "code",
   "execution_count": 58,
   "id": "a6d153e6",
   "metadata": {},
   "outputs": [],
   "source": [
    "from sklearn.naive_bayes import GaussianNB,MultinomialNB,BernoulliNB"
   ]
  },
  {
   "cell_type": "code",
   "execution_count": 59,
   "id": "3d1afe52",
   "metadata": {},
   "outputs": [],
   "source": [
    "from sklearn.metrics import accuracy_score,confusion_matrix,precision_score"
   ]
  },
  {
   "cell_type": "code",
   "execution_count": 60,
   "id": "15ac6393",
   "metadata": {},
   "outputs": [],
   "source": [
    "gnb=GaussianNB()\n",
    "mnb=MultinomialNB()\n",
    "bnb=BernoulliNB()"
   ]
  },
  {
   "cell_type": "code",
   "execution_count": 61,
   "id": "03316685",
   "metadata": {},
   "outputs": [
    {
     "name": "stdout",
     "output_type": "stream",
     "text": [
      "0.8691860465116279\n",
      "[[787 118]\n",
      " [ 17 110]]\n",
      "0.4824561403508772\n"
     ]
    }
   ],
   "source": [
    "gnb.fit(x_train,y_train)\n",
    "y_pred1=gnb.predict(x_test)\n",
    "print(accuracy_score(y_test,y_pred1))\n",
    "print(confusion_matrix(y_test,y_pred1))\n",
    "print(precision_score(y_test,y_pred1))"
   ]
  },
  {
   "cell_type": "code",
   "execution_count": 62,
   "id": "e178aa62",
   "metadata": {},
   "outputs": [
    {
     "name": "stdout",
     "output_type": "stream",
     "text": [
      "0.9612403100775194\n",
      "[[905   0]\n",
      " [ 40  87]]\n",
      "1.0\n"
     ]
    }
   ],
   "source": [
    "mnb.fit(x_train,y_train)\n",
    "y_pred2=mnb.predict(x_test)\n",
    "print(accuracy_score(y_test,y_pred2))\n",
    "print(confusion_matrix(y_test,y_pred2))\n",
    "print(precision_score(y_test,y_pred2))"
   ]
  },
  {
   "cell_type": "code",
   "execution_count": 63,
   "id": "3c18062c",
   "metadata": {},
   "outputs": [
    {
     "name": "stdout",
     "output_type": "stream",
     "text": [
      "0.9718992248062015\n",
      "[[902   3]\n",
      " [ 26 101]]\n",
      "0.9711538461538461\n"
     ]
    }
   ],
   "source": [
    "bnb.fit(x_train,y_train)\n",
    "y_pred3=bnb.predict(x_test)\n",
    "print(accuracy_score(y_test,y_pred3))\n",
    "print(confusion_matrix(y_test,y_pred3))\n",
    "print(precision_score(y_test,y_pred3))"
   ]
  },
  {
   "cell_type": "code",
   "execution_count": 64,
   "id": "93943fbb",
   "metadata": {},
   "outputs": [
    {
     "name": "stdout",
     "output_type": "stream",
     "text": [
      "Collecting xgboost\n",
      "  Obtaining dependency information for xgboost from https://files.pythonhosted.org/packages/e2/7b/8c1b410cd0604cee9a167a19f7e1746f5b92ae7d02ad574ab560b73c5a48/xgboost-2.1.1-py3-none-win_amd64.whl.metadata\n",
      "  Downloading xgboost-2.1.1-py3-none-win_amd64.whl.metadata (2.1 kB)\n",
      "Requirement already satisfied: numpy in c:\\users\\dell\\anaconda3\\lib\\site-packages (from xgboost) (1.24.3)\n",
      "Requirement already satisfied: scipy in c:\\users\\dell\\anaconda3\\lib\\site-packages (from xgboost) (1.11.1)\n",
      "Downloading xgboost-2.1.1-py3-none-win_amd64.whl (124.9 MB)\n",
      "   ---------------------------------------- 0.0/124.9 MB ? eta -:--:--\n",
      "   ---------------------------------------- 0.0/124.9 MB ? eta -:--:--\n",
      "   ---------------------------------------- 0.0/124.9 MB ? eta -:--:--\n",
      "   ---------------------------------------- 0.0/124.9 MB 163.8 kB/s eta 0:12:43\n",
      "   ---------------------------------------- 0.0/124.9 MB 195.7 kB/s eta 0:10:39\n",
      "   ---------------------------------------- 0.1/124.9 MB 467.6 kB/s eta 0:04:27\n",
      "   ---------------------------------------- 0.1/124.9 MB 423.5 kB/s eta 0:04:55\n",
      "   ---------------------------------------- 0.2/124.9 MB 655.1 kB/s eta 0:03:11\n",
      "   ---------------------------------------- 0.2/124.9 MB 655.1 kB/s eta 0:03:11\n",
      "   ---------------------------------------- 0.3/124.9 MB 759.5 kB/s eta 0:02:45\n",
      "   ---------------------------------------- 0.3/124.9 MB 759.5 kB/s eta 0:02:45\n",
      "   ---------------------------------------- 0.4/124.9 MB 737.3 kB/s eta 0:02:49\n",
      "   ---------------------------------------- 0.5/124.9 MB 827.7 kB/s eta 0:02:31\n",
      "   ---------------------------------------- 0.5/124.9 MB 896.4 kB/s eta 0:02:19\n",
      "   ---------------------------------------- 0.6/124.9 MB 1.0 MB/s eta 0:02:03\n",
      "   ---------------------------------------- 0.7/124.9 MB 1.0 MB/s eta 0:01:59\n",
      "   ---------------------------------------- 0.7/124.9 MB 1.0 MB/s eta 0:01:59\n",
      "   ---------------------------------------- 0.7/124.9 MB 890.4 kB/s eta 0:02:20\n",
      "   ---------------------------------------- 0.8/124.9 MB 1.0 MB/s eta 0:02:01\n",
      "   ---------------------------------------- 0.8/124.9 MB 1.0 MB/s eta 0:02:01\n",
      "   ---------------------------------------- 0.9/124.9 MB 982.2 kB/s eta 0:02:07\n",
      "   ---------------------------------------- 1.0/124.9 MB 1.0 MB/s eta 0:02:01\n",
      "   ---------------------------------------- 1.1/124.9 MB 1.1 MB/s eta 0:01:53\n",
      "   ---------------------------------------- 1.2/124.9 MB 1.2 MB/s eta 0:01:45\n",
      "   ---------------------------------------- 1.4/124.9 MB 1.3 MB/s eta 0:01:39\n",
      "   ---------------------------------------- 1.5/124.9 MB 1.3 MB/s eta 0:01:32\n",
      "    --------------------------------------- 1.6/124.9 MB 1.4 MB/s eta 0:01:30\n",
      "    --------------------------------------- 1.7/124.9 MB 1.4 MB/s eta 0:01:28\n",
      "    --------------------------------------- 1.9/124.9 MB 1.5 MB/s eta 0:01:24\n",
      "    --------------------------------------- 2.1/124.9 MB 1.6 MB/s eta 0:01:19\n",
      "    --------------------------------------- 2.2/124.9 MB 1.6 MB/s eta 0:01:17\n",
      "    --------------------------------------- 2.4/124.9 MB 1.7 MB/s eta 0:01:12\n",
      "    --------------------------------------- 2.6/124.9 MB 1.8 MB/s eta 0:01:09\n",
      "    --------------------------------------- 2.7/124.9 MB 1.8 MB/s eta 0:01:09\n",
      "    --------------------------------------- 2.8/124.9 MB 1.8 MB/s eta 0:01:10\n",
      "    --------------------------------------- 2.9/124.9 MB 1.8 MB/s eta 0:01:07\n",
      "    --------------------------------------- 2.9/124.9 MB 1.8 MB/s eta 0:01:07\n",
      "    --------------------------------------- 3.0/124.9 MB 1.7 MB/s eta 0:01:11\n",
      "    --------------------------------------- 3.1/124.9 MB 1.7 MB/s eta 0:01:10\n",
      "   - -------------------------------------- 3.2/124.9 MB 1.8 MB/s eta 0:01:08\n",
      "   - -------------------------------------- 3.5/124.9 MB 1.9 MB/s eta 0:01:05\n",
      "   - -------------------------------------- 3.5/124.9 MB 1.8 MB/s eta 0:01:07\n",
      "   - -------------------------------------- 3.6/124.9 MB 1.9 MB/s eta 0:01:06\n",
      "   - -------------------------------------- 3.7/124.9 MB 1.9 MB/s eta 0:01:05\n",
      "   - -------------------------------------- 3.7/124.9 MB 1.8 MB/s eta 0:01:07\n",
      "   - -------------------------------------- 3.9/124.9 MB 1.9 MB/s eta 0:01:06\n",
      "   - -------------------------------------- 4.1/124.9 MB 1.9 MB/s eta 0:01:04\n",
      "   - -------------------------------------- 4.3/124.9 MB 2.0 MB/s eta 0:01:02\n",
      "   - -------------------------------------- 4.3/124.9 MB 2.0 MB/s eta 0:01:02\n",
      "   - -------------------------------------- 4.4/124.9 MB 1.9 MB/s eta 0:01:03\n",
      "   - -------------------------------------- 4.6/124.9 MB 2.0 MB/s eta 0:01:01\n",
      "   - -------------------------------------- 4.7/124.9 MB 2.0 MB/s eta 0:01:00\n",
      "   - -------------------------------------- 4.9/124.9 MB 2.1 MB/s eta 0:00:59\n",
      "   - -------------------------------------- 5.1/124.9 MB 2.1 MB/s eta 0:00:58\n",
      "   - -------------------------------------- 5.3/124.9 MB 2.1 MB/s eta 0:00:57\n",
      "   - -------------------------------------- 5.5/124.9 MB 2.1 MB/s eta 0:00:56\n",
      "   - -------------------------------------- 5.8/124.9 MB 2.2 MB/s eta 0:00:54\n",
      "   - -------------------------------------- 5.9/124.9 MB 2.2 MB/s eta 0:00:54\n",
      "   - -------------------------------------- 6.2/124.9 MB 2.3 MB/s eta 0:00:53\n",
      "   - -------------------------------------- 6.2/124.9 MB 2.3 MB/s eta 0:00:53\n",
      "   -- ------------------------------------- 6.3/124.9 MB 2.3 MB/s eta 0:00:53\n",
      "   -- ------------------------------------- 6.4/124.9 MB 2.3 MB/s eta 0:00:53\n",
      "   -- ------------------------------------- 6.5/124.9 MB 2.3 MB/s eta 0:00:52\n",
      "   -- ------------------------------------- 6.6/124.9 MB 2.2 MB/s eta 0:00:54\n",
      "   -- ------------------------------------- 6.7/124.9 MB 2.2 MB/s eta 0:00:53\n",
      "   -- ------------------------------------- 7.0/124.9 MB 2.3 MB/s eta 0:00:52\n",
      "   -- ------------------------------------- 7.2/124.9 MB 2.3 MB/s eta 0:00:51\n",
      "   -- ------------------------------------- 7.5/124.9 MB 2.4 MB/s eta 0:00:50\n",
      "   -- ------------------------------------- 7.7/124.9 MB 2.4 MB/s eta 0:00:49\n",
      "   -- ------------------------------------- 7.7/124.9 MB 2.4 MB/s eta 0:00:49\n",
      "   -- ------------------------------------- 7.8/124.9 MB 2.4 MB/s eta 0:00:50\n",
      "   -- ------------------------------------- 8.0/124.9 MB 2.4 MB/s eta 0:00:49\n",
      "   -- ------------------------------------- 8.2/124.9 MB 2.4 MB/s eta 0:00:49\n",
      "   -- ------------------------------------- 8.5/124.9 MB 2.5 MB/s eta 0:00:47\n",
      "   -- ------------------------------------- 8.5/124.9 MB 2.5 MB/s eta 0:00:47\n",
      "   -- ------------------------------------- 8.5/124.9 MB 2.5 MB/s eta 0:00:47\n",
      "   -- ------------------------------------- 8.6/124.9 MB 2.4 MB/s eta 0:00:48\n",
      "   -- ------------------------------------- 8.9/124.9 MB 2.5 MB/s eta 0:00:48\n",
      "   -- ------------------------------------- 9.1/124.9 MB 2.5 MB/s eta 0:00:47\n",
      "   --- ------------------------------------ 9.4/124.9 MB 2.5 MB/s eta 0:00:46\n",
      "   --- ------------------------------------ 9.5/124.9 MB 2.5 MB/s eta 0:00:46\n",
      "   --- ------------------------------------ 9.6/124.9 MB 2.5 MB/s eta 0:00:46\n",
      "   --- ------------------------------------ 9.9/124.9 MB 2.6 MB/s eta 0:00:45\n",
      "   --- ------------------------------------ 10.0/124.9 MB 2.6 MB/s eta 0:00:45\n",
      "   --- ------------------------------------ 10.2/124.9 MB 2.6 MB/s eta 0:00:45\n",
      "   --- ------------------------------------ 10.5/124.9 MB 2.8 MB/s eta 0:00:41\n",
      "   --- ------------------------------------ 10.6/124.9 MB 2.9 MB/s eta 0:00:40\n",
      "   --- ------------------------------------ 10.7/124.9 MB 2.9 MB/s eta 0:00:40\n",
      "   --- ------------------------------------ 10.9/124.9 MB 2.9 MB/s eta 0:00:40\n",
      "   --- ------------------------------------ 11.1/124.9 MB 3.1 MB/s eta 0:00:37\n",
      "   --- ------------------------------------ 11.3/124.9 MB 3.1 MB/s eta 0:00:37\n",
      "   --- ------------------------------------ 11.6/124.9 MB 3.2 MB/s eta 0:00:36\n",
      "   --- ------------------------------------ 11.7/124.9 MB 3.2 MB/s eta 0:00:36\n",
      "   --- ------------------------------------ 11.9/124.9 MB 3.3 MB/s eta 0:00:35\n",
      "   --- ------------------------------------ 12.0/124.9 MB 3.2 MB/s eta 0:00:36\n",
      "   --- ------------------------------------ 12.3/124.9 MB 3.3 MB/s eta 0:00:35\n",
      "   ---- ----------------------------------- 12.6/124.9 MB 3.3 MB/s eta 0:00:35\n",
      "   ---- ----------------------------------- 12.8/124.9 MB 3.3 MB/s eta 0:00:35\n",
      "   ---- ----------------------------------- 13.1/124.9 MB 3.4 MB/s eta 0:00:34\n",
      "   ---- ----------------------------------- 13.3/124.9 MB 3.5 MB/s eta 0:00:32\n",
      "   ---- ----------------------------------- 13.5/124.9 MB 3.5 MB/s eta 0:00:32\n",
      "   ---- ----------------------------------- 13.6/124.9 MB 3.5 MB/s eta 0:00:32\n",
      "   ---- ----------------------------------- 13.9/124.9 MB 3.6 MB/s eta 0:00:32\n",
      "   ---- ----------------------------------- 14.2/124.9 MB 3.7 MB/s eta 0:00:30\n",
      "   ---- ----------------------------------- 14.3/124.9 MB 3.7 MB/s eta 0:00:31\n",
      "   ---- ----------------------------------- 14.5/124.9 MB 3.7 MB/s eta 0:00:31\n",
      "   ---- ----------------------------------- 14.6/124.9 MB 3.7 MB/s eta 0:00:30\n",
      "   ---- ----------------------------------- 14.8/124.9 MB 3.7 MB/s eta 0:00:30\n",
      "   ---- ----------------------------------- 15.0/124.9 MB 3.7 MB/s eta 0:00:30\n",
      "   ---- ----------------------------------- 15.3/124.9 MB 3.8 MB/s eta 0:00:29\n",
      "   ---- ----------------------------------- 15.5/124.9 MB 3.8 MB/s eta 0:00:29\n",
      "   ----- ---------------------------------- 15.8/124.9 MB 3.8 MB/s eta 0:00:29\n",
      "   ----- ---------------------------------- 16.0/124.9 MB 3.8 MB/s eta 0:00:29\n",
      "   ----- ---------------------------------- 16.2/124.9 MB 3.8 MB/s eta 0:00:29\n",
      "   ----- ---------------------------------- 16.3/124.9 MB 3.8 MB/s eta 0:00:29\n",
      "   ----- ---------------------------------- 16.4/124.9 MB 3.8 MB/s eta 0:00:29\n",
      "   ----- ---------------------------------- 16.6/124.9 MB 3.8 MB/s eta 0:00:29\n",
      "   ----- ---------------------------------- 16.8/124.9 MB 3.9 MB/s eta 0:00:28\n",
      "   ----- ---------------------------------- 17.0/124.9 MB 3.9 MB/s eta 0:00:28\n",
      "   ----- ---------------------------------- 17.3/124.9 MB 3.9 MB/s eta 0:00:28\n",
      "   ----- ---------------------------------- 17.5/124.9 MB 4.0 MB/s eta 0:00:28\n",
      "   ----- ---------------------------------- 17.5/124.9 MB 3.9 MB/s eta 0:00:28\n",
      "   ----- ---------------------------------- 17.6/124.9 MB 3.8 MB/s eta 0:00:29\n",
      "   ----- ---------------------------------- 17.7/124.9 MB 3.8 MB/s eta 0:00:29\n",
      "   ----- ---------------------------------- 17.9/124.9 MB 3.8 MB/s eta 0:00:29\n",
      "   ----- ---------------------------------- 18.0/124.9 MB 3.9 MB/s eta 0:00:28\n",
      "   ----- ---------------------------------- 18.2/124.9 MB 3.9 MB/s eta 0:00:28\n",
      "   ----- ---------------------------------- 18.4/124.9 MB 3.9 MB/s eta 0:00:28\n",
      "   ----- ---------------------------------- 18.5/124.9 MB 3.9 MB/s eta 0:00:28\n",
      "   ------ --------------------------------- 18.8/124.9 MB 4.0 MB/s eta 0:00:27\n",
      "   ------ --------------------------------- 19.0/124.9 MB 4.0 MB/s eta 0:00:27\n",
      "   ------ --------------------------------- 19.3/124.9 MB 4.0 MB/s eta 0:00:27\n",
      "   ------ --------------------------------- 19.6/124.9 MB 4.0 MB/s eta 0:00:27\n",
      "   ------ --------------------------------- 19.9/124.9 MB 4.1 MB/s eta 0:00:26\n",
      "   ------ --------------------------------- 20.0/124.9 MB 4.1 MB/s eta 0:00:26\n",
      "   ------ --------------------------------- 20.3/124.9 MB 4.1 MB/s eta 0:00:26\n",
      "   ------ --------------------------------- 20.6/124.9 MB 4.2 MB/s eta 0:00:26\n",
      "   ------ --------------------------------- 20.9/124.9 MB 4.3 MB/s eta 0:00:25\n",
      "   ------ --------------------------------- 20.9/124.9 MB 4.3 MB/s eta 0:00:25\n",
      "   ------ --------------------------------- 20.9/124.9 MB 4.1 MB/s eta 0:00:26\n",
      "   ------ --------------------------------- 20.9/124.9 MB 4.1 MB/s eta 0:00:26\n",
      "   ------ --------------------------------- 21.1/124.9 MB 4.0 MB/s eta 0:00:26\n",
      "   ------ --------------------------------- 21.4/124.9 MB 4.1 MB/s eta 0:00:26\n",
      "   ------ --------------------------------- 21.7/124.9 MB 4.1 MB/s eta 0:00:26\n",
      "   ------- -------------------------------- 21.9/124.9 MB 4.1 MB/s eta 0:00:25\n",
      "   ------- -------------------------------- 21.9/124.9 MB 4.1 MB/s eta 0:00:25\n",
      "   ------- -------------------------------- 21.9/124.9 MB 4.0 MB/s eta 0:00:26\n",
      "   ------- -------------------------------- 22.1/124.9 MB 3.9 MB/s eta 0:00:27\n",
      "   ------- -------------------------------- 22.3/124.9 MB 4.0 MB/s eta 0:00:26\n",
      "   ------- -------------------------------- 22.6/124.9 MB 4.0 MB/s eta 0:00:26\n",
      "   ------- -------------------------------- 22.6/124.9 MB 4.0 MB/s eta 0:00:26\n",
      "   ------- -------------------------------- 22.6/124.9 MB 4.0 MB/s eta 0:00:26\n",
      "   ------- -------------------------------- 22.6/124.9 MB 4.0 MB/s eta 0:00:26\n",
      "   ------- -------------------------------- 22.6/124.9 MB 4.0 MB/s eta 0:00:26\n",
      "   ------- -------------------------------- 22.6/124.9 MB 4.0 MB/s eta 0:00:26\n",
      "   ------- -------------------------------- 22.6/124.9 MB 4.0 MB/s eta 0:00:26\n",
      "   ------- -------------------------------- 22.6/124.9 MB 4.0 MB/s eta 0:00:26\n",
      "   ------- -------------------------------- 22.6/124.9 MB 4.0 MB/s eta 0:00:26\n",
      "   ------- -------------------------------- 23.6/124.9 MB 3.8 MB/s eta 0:00:27\n",
      "   ------- -------------------------------- 23.7/124.9 MB 3.7 MB/s eta 0:00:28\n",
      "   ------- -------------------------------- 23.8/124.9 MB 3.7 MB/s eta 0:00:28\n",
      "   ------- -------------------------------- 24.0/124.9 MB 3.7 MB/s eta 0:00:28\n",
      "   ------- -------------------------------- 24.2/124.9 MB 3.7 MB/s eta 0:00:28\n",
      "   ------- -------------------------------- 24.5/124.9 MB 3.7 MB/s eta 0:00:28\n",
      "   ------- -------------------------------- 24.8/124.9 MB 3.7 MB/s eta 0:00:27\n",
      "   ------- -------------------------------- 24.8/124.9 MB 3.7 MB/s eta 0:00:27\n",
      "   ------- -------------------------------- 24.8/124.9 MB 3.7 MB/s eta 0:00:28\n",
      "   ------- -------------------------------- 24.9/124.9 MB 3.6 MB/s eta 0:00:28\n",
      "   ------- -------------------------------- 24.9/124.9 MB 3.5 MB/s eta 0:00:29\n",
      "   -------- ------------------------------- 25.1/124.9 MB 3.5 MB/s eta 0:00:29\n",
      "   -------- ------------------------------- 25.3/124.9 MB 3.5 MB/s eta 0:00:29\n",
      "   -------- ------------------------------- 25.5/124.9 MB 3.5 MB/s eta 0:00:29\n",
      "   -------- ------------------------------- 25.6/124.9 MB 3.5 MB/s eta 0:00:29\n",
      "   -------- ------------------------------- 25.7/124.9 MB 3.5 MB/s eta 0:00:29\n",
      "   -------- ------------------------------- 25.9/124.9 MB 3.5 MB/s eta 0:00:29\n",
      "   -------- ------------------------------- 26.0/124.9 MB 3.4 MB/s eta 0:00:29\n",
      "   -------- ------------------------------- 26.2/124.9 MB 3.4 MB/s eta 0:00:29\n",
      "   -------- ------------------------------- 26.5/124.9 MB 3.4 MB/s eta 0:00:29\n",
      "   -------- ------------------------------- 26.6/124.9 MB 3.5 MB/s eta 0:00:29\n",
      "   -------- ------------------------------- 26.6/124.9 MB 3.4 MB/s eta 0:00:29\n",
      "   -------- ------------------------------- 26.8/124.9 MB 3.4 MB/s eta 0:00:29\n",
      "   -------- ------------------------------- 27.1/124.9 MB 3.4 MB/s eta 0:00:29\n",
      "   -------- ------------------------------- 27.2/124.9 MB 3.4 MB/s eta 0:00:29\n",
      "   -------- ------------------------------- 27.5/124.9 MB 3.4 MB/s eta 0:00:29\n",
      "   -------- ------------------------------- 27.7/124.9 MB 3.4 MB/s eta 0:00:29\n",
      "   -------- ------------------------------- 28.0/124.9 MB 3.6 MB/s eta 0:00:28\n",
      "   --------- ------------------------------ 28.2/124.9 MB 3.6 MB/s eta 0:00:27\n",
      "   --------- ------------------------------ 28.4/124.9 MB 3.6 MB/s eta 0:00:27\n",
      "   --------- ------------------------------ 28.6/124.9 MB 3.6 MB/s eta 0:00:27\n",
      "   --------- ------------------------------ 28.6/124.9 MB 3.6 MB/s eta 0:00:28\n",
      "   --------- ------------------------------ 29.0/124.9 MB 3.6 MB/s eta 0:00:27\n",
      "   --------- ------------------------------ 29.2/124.9 MB 3.6 MB/s eta 0:00:27\n",
      "   --------- ------------------------------ 29.4/124.9 MB 3.6 MB/s eta 0:00:27\n",
      "   --------- ------------------------------ 29.6/124.9 MB 3.6 MB/s eta 0:00:27\n",
      "   --------- ------------------------------ 29.8/124.9 MB 3.5 MB/s eta 0:00:28\n",
      "   --------- ------------------------------ 30.1/124.9 MB 3.5 MB/s eta 0:00:27\n",
      "   --------- ------------------------------ 30.3/124.9 MB 3.6 MB/s eta 0:00:27\n",
      "   --------- ------------------------------ 30.4/124.9 MB 3.5 MB/s eta 0:00:27\n",
      "   --------- ------------------------------ 30.5/124.9 MB 3.5 MB/s eta 0:00:28\n",
      "   --------- ------------------------------ 30.8/124.9 MB 3.5 MB/s eta 0:00:28\n",
      "   --------- ------------------------------ 31.1/124.9 MB 3.5 MB/s eta 0:00:28\n",
      "   ---------- ----------------------------- 31.3/124.9 MB 3.6 MB/s eta 0:00:26\n",
      "   ---------- ----------------------------- 31.6/124.9 MB 3.6 MB/s eta 0:00:26\n",
      "   ---------- ----------------------------- 31.8/124.9 MB 3.6 MB/s eta 0:00:26\n",
      "   ---------- ----------------------------- 32.1/124.9 MB 3.6 MB/s eta 0:00:26\n",
      "   ---------- ----------------------------- 32.3/124.9 MB 3.8 MB/s eta 0:00:25\n",
      "   ---------- ----------------------------- 32.4/124.9 MB 3.7 MB/s eta 0:00:25\n",
      "   ---------- ----------------------------- 32.7/124.9 MB 3.8 MB/s eta 0:00:25\n",
      "   ---------- ----------------------------- 32.9/124.9 MB 4.3 MB/s eta 0:00:22\n",
      "   ---------- ----------------------------- 33.1/124.9 MB 4.3 MB/s eta 0:00:22\n",
      "   ---------- ----------------------------- 33.2/124.9 MB 4.2 MB/s eta 0:00:22\n",
      "   ---------- ----------------------------- 33.4/124.9 MB 4.1 MB/s eta 0:00:23\n",
      "   ---------- ----------------------------- 33.7/124.9 MB 4.0 MB/s eta 0:00:23\n",
      "   ---------- ----------------------------- 33.8/124.9 MB 3.9 MB/s eta 0:00:24\n",
      "   ---------- ----------------------------- 34.0/124.9 MB 4.1 MB/s eta 0:00:23\n",
      "   ---------- ----------------------------- 34.2/124.9 MB 4.0 MB/s eta 0:00:23\n",
      "   ----------- ---------------------------- 34.5/124.9 MB 4.0 MB/s eta 0:00:23\n",
      "   ----------- ---------------------------- 34.6/124.9 MB 4.0 MB/s eta 0:00:23\n",
      "   ----------- ---------------------------- 34.8/124.9 MB 4.0 MB/s eta 0:00:23\n",
      "   ----------- ---------------------------- 35.0/124.9 MB 3.9 MB/s eta 0:00:23\n",
      "   ----------- ---------------------------- 35.3/124.9 MB 4.2 MB/s eta 0:00:22\n",
      "   ----------- ---------------------------- 35.5/124.9 MB 4.2 MB/s eta 0:00:22\n",
      "   ----------- ---------------------------- 35.6/124.9 MB 4.2 MB/s eta 0:00:22\n",
      "   ----------- ---------------------------- 35.9/124.9 MB 4.3 MB/s eta 0:00:21\n",
      "   ----------- ---------------------------- 36.2/124.9 MB 4.4 MB/s eta 0:00:21\n",
      "   ----------- ---------------------------- 36.5/124.9 MB 4.4 MB/s eta 0:00:20\n",
      "   ----------- ---------------------------- 36.6/124.9 MB 4.5 MB/s eta 0:00:20\n",
      "   ----------- ---------------------------- 36.7/124.9 MB 4.3 MB/s eta 0:00:21\n",
      "   ----------- ---------------------------- 36.7/124.9 MB 4.3 MB/s eta 0:00:21\n",
      "   ----------- ---------------------------- 36.8/124.9 MB 4.2 MB/s eta 0:00:21\n",
      "   ----------- ---------------------------- 36.9/124.9 MB 4.3 MB/s eta 0:00:21\n",
      "   ----------- ---------------------------- 37.3/124.9 MB 4.3 MB/s eta 0:00:21\n",
      "   ----------- ---------------------------- 37.4/124.9 MB 4.3 MB/s eta 0:00:21\n",
      "   ------------ --------------------------- 37.6/124.9 MB 4.3 MB/s eta 0:00:21\n",
      "   ------------ --------------------------- 37.8/124.9 MB 4.3 MB/s eta 0:00:21\n",
      "   ------------ --------------------------- 38.0/124.9 MB 4.3 MB/s eta 0:00:21\n",
      "   ------------ --------------------------- 38.2/124.9 MB 4.3 MB/s eta 0:00:21\n",
      "   ------------ --------------------------- 38.5/124.9 MB 4.3 MB/s eta 0:00:21\n",
      "   ------------ --------------------------- 38.7/124.9 MB 4.3 MB/s eta 0:00:21\n",
      "   ------------ --------------------------- 38.8/124.9 MB 4.2 MB/s eta 0:00:21\n",
      "   ------------ --------------------------- 39.0/124.9 MB 4.3 MB/s eta 0:00:20\n",
      "   ------------ --------------------------- 39.2/124.9 MB 4.3 MB/s eta 0:00:20\n",
      "   ------------ --------------------------- 39.4/124.9 MB 4.3 MB/s eta 0:00:21\n",
      "   ------------ --------------------------- 39.5/124.9 MB 4.2 MB/s eta 0:00:21\n",
      "   ------------ --------------------------- 39.7/124.9 MB 4.2 MB/s eta 0:00:21\n",
      "   ------------ --------------------------- 39.8/124.9 MB 4.2 MB/s eta 0:00:21\n",
      "   ------------ --------------------------- 40.0/124.9 MB 4.1 MB/s eta 0:00:21\n",
      "   ------------ --------------------------- 40.2/124.9 MB 4.2 MB/s eta 0:00:21\n",
      "   ------------ --------------------------- 40.5/124.9 MB 4.1 MB/s eta 0:00:21\n",
      "   ------------- -------------------------- 40.7/124.9 MB 4.2 MB/s eta 0:00:21\n",
      "   ------------- -------------------------- 40.8/124.9 MB 4.2 MB/s eta 0:00:21\n",
      "   ------------- -------------------------- 41.0/124.9 MB 4.2 MB/s eta 0:00:21\n",
      "   ------------- -------------------------- 41.2/124.9 MB 4.2 MB/s eta 0:00:21\n",
      "   ------------- -------------------------- 41.2/124.9 MB 4.1 MB/s eta 0:00:21\n",
      "   ------------- -------------------------- 41.5/124.9 MB 4.1 MB/s eta 0:00:21\n",
      "   ------------- -------------------------- 41.6/124.9 MB 4.0 MB/s eta 0:00:21\n",
      "   ------------- -------------------------- 41.9/124.9 MB 4.0 MB/s eta 0:00:21\n",
      "   ------------- -------------------------- 42.1/124.9 MB 4.0 MB/s eta 0:00:21\n",
      "   ------------- -------------------------- 42.3/124.9 MB 4.0 MB/s eta 0:00:21\n",
      "   ------------- -------------------------- 42.5/124.9 MB 4.0 MB/s eta 0:00:21\n",
      "   ------------- -------------------------- 42.8/124.9 MB 4.1 MB/s eta 0:00:21\n",
      "   ------------- -------------------------- 43.0/124.9 MB 4.0 MB/s eta 0:00:21\n",
      "   ------------- -------------------------- 43.2/124.9 MB 4.0 MB/s eta 0:00:21\n",
      "   ------------- -------------------------- 43.4/124.9 MB 4.0 MB/s eta 0:00:21\n",
      "   ------------- -------------------------- 43.6/124.9 MB 4.1 MB/s eta 0:00:20\n",
      "   -------------- ------------------------- 43.8/124.9 MB 4.1 MB/s eta 0:00:20\n",
      "   -------------- ------------------------- 43.8/124.9 MB 4.1 MB/s eta 0:00:20\n",
      "   -------------- ------------------------- 43.9/124.9 MB 4.0 MB/s eta 0:00:21\n",
      "   -------------- ------------------------- 44.1/124.9 MB 4.0 MB/s eta 0:00:21\n",
      "   -------------- ------------------------- 44.3/124.9 MB 4.0 MB/s eta 0:00:21\n",
      "   -------------- ------------------------- 44.5/124.9 MB 4.0 MB/s eta 0:00:21\n",
      "   -------------- ------------------------- 44.8/124.9 MB 4.0 MB/s eta 0:00:20\n",
      "   -------------- ------------------------- 45.0/124.9 MB 4.0 MB/s eta 0:00:20\n",
      "   -------------- ------------------------- 45.0/124.9 MB 4.0 MB/s eta 0:00:20\n",
      "   -------------- ------------------------- 45.1/124.9 MB 3.9 MB/s eta 0:00:21\n",
      "   -------------- ------------------------- 45.3/124.9 MB 3.9 MB/s eta 0:00:21\n",
      "   -------------- ------------------------- 45.5/124.9 MB 3.9 MB/s eta 0:00:21\n",
      "   -------------- ------------------------- 45.7/124.9 MB 3.9 MB/s eta 0:00:21\n",
      "   -------------- ------------------------- 45.8/124.9 MB 3.9 MB/s eta 0:00:21\n",
      "   -------------- ------------------------- 45.9/124.9 MB 3.8 MB/s eta 0:00:21\n",
      "   -------------- ------------------------- 45.9/124.9 MB 3.8 MB/s eta 0:00:21\n",
      "   -------------- ------------------------- 46.0/124.9 MB 3.8 MB/s eta 0:00:21\n",
      "   -------------- ------------------------- 46.2/124.9 MB 3.7 MB/s eta 0:00:22\n",
      "   -------------- ------------------------- 46.3/124.9 MB 3.7 MB/s eta 0:00:22\n",
      "   -------------- ------------------------- 46.6/124.9 MB 3.7 MB/s eta 0:00:22\n",
      "   -------------- ------------------------- 46.8/124.9 MB 3.6 MB/s eta 0:00:22\n",
      "   --------------- ------------------------ 47.0/124.9 MB 3.8 MB/s eta 0:00:21\n",
      "   --------------- ------------------------ 47.1/124.9 MB 3.8 MB/s eta 0:00:21\n",
      "   --------------- ------------------------ 47.4/124.9 MB 3.8 MB/s eta 0:00:21\n",
      "   --------------- ------------------------ 47.5/124.9 MB 3.8 MB/s eta 0:00:21\n",
      "   --------------- ------------------------ 47.7/124.9 MB 3.8 MB/s eta 0:00:21\n",
      "   --------------- ------------------------ 47.9/124.9 MB 3.8 MB/s eta 0:00:21\n",
      "   --------------- ------------------------ 48.0/124.9 MB 3.8 MB/s eta 0:00:21\n",
      "   --------------- ------------------------ 48.3/124.9 MB 3.8 MB/s eta 0:00:21\n",
      "   --------------- ------------------------ 48.5/124.9 MB 3.8 MB/s eta 0:00:21\n",
      "   --------------- ------------------------ 48.7/124.9 MB 3.8 MB/s eta 0:00:21\n",
      "   --------------- ------------------------ 48.8/124.9 MB 3.8 MB/s eta 0:00:21\n",
      "   --------------- ------------------------ 49.0/124.9 MB 3.8 MB/s eta 0:00:21\n",
      "   --------------- ------------------------ 49.3/124.9 MB 3.8 MB/s eta 0:00:20\n",
      "   --------------- ------------------------ 49.5/124.9 MB 3.8 MB/s eta 0:00:20\n",
      "   --------------- ------------------------ 49.7/124.9 MB 3.8 MB/s eta 0:00:20\n",
      "   ---------------- ----------------------- 50.0/124.9 MB 3.9 MB/s eta 0:00:20\n",
      "   ---------------- ----------------------- 50.1/124.9 MB 3.9 MB/s eta 0:00:20\n",
      "   ---------------- ----------------------- 50.4/124.9 MB 3.9 MB/s eta 0:00:20\n",
      "   ---------------- ----------------------- 50.6/124.9 MB 3.9 MB/s eta 0:00:20\n",
      "   ---------------- ----------------------- 50.9/124.9 MB 3.9 MB/s eta 0:00:19\n",
      "   ---------------- ----------------------- 51.1/124.9 MB 3.9 MB/s eta 0:00:19\n",
      "   ---------------- ----------------------- 51.2/124.9 MB 3.9 MB/s eta 0:00:20\n",
      "   ---------------- ----------------------- 51.3/124.9 MB 3.9 MB/s eta 0:00:19\n",
      "   ---------------- ----------------------- 51.6/124.9 MB 3.9 MB/s eta 0:00:19\n",
      "   ---------------- ----------------------- 51.7/124.9 MB 3.9 MB/s eta 0:00:19\n",
      "   ---------------- ----------------------- 51.9/124.9 MB 3.9 MB/s eta 0:00:19\n",
      "   ---------------- ----------------------- 52.1/124.9 MB 3.9 MB/s eta 0:00:19\n",
      "   ---------------- ----------------------- 52.3/124.9 MB 3.9 MB/s eta 0:00:19\n",
      "   ---------------- ----------------------- 52.5/124.9 MB 3.9 MB/s eta 0:00:19\n",
      "   ---------------- ----------------------- 52.7/124.9 MB 3.9 MB/s eta 0:00:19\n",
      "   ---------------- ----------------------- 53.0/124.9 MB 3.9 MB/s eta 0:00:19\n",
      "   ----------------- ---------------------- 53.1/124.9 MB 3.9 MB/s eta 0:00:19\n",
      "   ----------------- ---------------------- 53.4/124.9 MB 3.9 MB/s eta 0:00:19\n",
      "   ----------------- ---------------------- 53.5/124.9 MB 3.9 MB/s eta 0:00:19\n",
      "   ----------------- ---------------------- 53.8/124.9 MB 3.9 MB/s eta 0:00:19\n",
      "   ----------------- ---------------------- 54.2/124.9 MB 4.0 MB/s eta 0:00:18\n",
      "   ----------------- ---------------------- 54.4/124.9 MB 4.0 MB/s eta 0:00:18\n",
      "   ----------------- ---------------------- 54.6/124.9 MB 4.0 MB/s eta 0:00:18\n",
      "   ----------------- ---------------------- 54.9/124.9 MB 4.1 MB/s eta 0:00:18\n",
      "   ----------------- ---------------------- 55.1/124.9 MB 4.0 MB/s eta 0:00:18\n",
      "   ----------------- ---------------------- 55.3/124.9 MB 4.2 MB/s eta 0:00:17\n",
      "   ----------------- ---------------------- 55.6/124.9 MB 4.2 MB/s eta 0:00:17\n",
      "   ----------------- ---------------------- 55.8/124.9 MB 4.3 MB/s eta 0:00:17\n",
      "   ----------------- ---------------------- 56.1/124.9 MB 4.4 MB/s eta 0:00:16\n",
      "   ------------------ --------------------- 56.4/124.9 MB 4.5 MB/s eta 0:00:16\n",
      "   ------------------ --------------------- 56.6/124.9 MB 4.6 MB/s eta 0:00:15\n",
      "   ------------------ --------------------- 56.9/124.9 MB 4.6 MB/s eta 0:00:15\n",
      "   ------------------ --------------------- 57.1/124.9 MB 4.6 MB/s eta 0:00:15\n",
      "   ------------------ --------------------- 57.4/124.9 MB 4.6 MB/s eta 0:00:15\n",
      "   ------------------ --------------------- 57.5/124.9 MB 4.6 MB/s eta 0:00:15\n",
      "   ------------------ --------------------- 57.8/124.9 MB 4.6 MB/s eta 0:00:15\n",
      "   ------------------ --------------------- 58.0/124.9 MB 4.6 MB/s eta 0:00:15\n",
      "   ------------------ --------------------- 58.2/124.9 MB 4.6 MB/s eta 0:00:15\n",
      "   ------------------ --------------------- 58.4/124.9 MB 4.7 MB/s eta 0:00:15\n",
      "   ------------------ --------------------- 58.6/124.9 MB 4.7 MB/s eta 0:00:15\n",
      "   ------------------ --------------------- 58.8/124.9 MB 4.6 MB/s eta 0:00:15\n",
      "   ------------------ --------------------- 59.0/124.9 MB 4.7 MB/s eta 0:00:15\n",
      "   ------------------ --------------------- 59.1/124.9 MB 4.6 MB/s eta 0:00:15\n",
      "   ------------------ --------------------- 59.3/124.9 MB 4.6 MB/s eta 0:00:15\n",
      "   ------------------- -------------------- 59.5/124.9 MB 4.6 MB/s eta 0:00:15\n",
      "   ------------------- -------------------- 59.6/124.9 MB 4.6 MB/s eta 0:00:15\n",
      "   ------------------- -------------------- 59.8/124.9 MB 4.5 MB/s eta 0:00:15\n",
      "   ------------------- -------------------- 59.9/124.9 MB 4.5 MB/s eta 0:00:15\n",
      "   ------------------- -------------------- 60.1/124.9 MB 4.5 MB/s eta 0:00:15\n",
      "   ------------------- -------------------- 60.3/124.9 MB 4.5 MB/s eta 0:00:15\n",
      "   ------------------- -------------------- 60.5/124.9 MB 4.5 MB/s eta 0:00:15\n",
      "   ------------------- -------------------- 60.7/124.9 MB 4.5 MB/s eta 0:00:15\n",
      "   ------------------- -------------------- 60.9/124.9 MB 4.4 MB/s eta 0:00:15\n",
      "   ------------------- -------------------- 61.0/124.9 MB 4.4 MB/s eta 0:00:15\n",
      "   ------------------- -------------------- 61.2/124.9 MB 4.4 MB/s eta 0:00:15\n",
      "   ------------------- -------------------- 61.4/124.9 MB 4.4 MB/s eta 0:00:15\n",
      "   ------------------- -------------------- 61.5/124.9 MB 4.4 MB/s eta 0:00:15\n",
      "   ------------------- -------------------- 61.7/124.9 MB 4.3 MB/s eta 0:00:15\n",
      "   ------------------- -------------------- 61.9/124.9 MB 4.3 MB/s eta 0:00:15\n",
      "   ------------------- -------------------- 62.2/124.9 MB 4.4 MB/s eta 0:00:15\n",
      "   ------------------- -------------------- 62.4/124.9 MB 4.4 MB/s eta 0:00:15\n",
      "   -------------------- ------------------- 62.5/124.9 MB 4.4 MB/s eta 0:00:15\n",
      "   -------------------- ------------------- 62.8/124.9 MB 4.4 MB/s eta 0:00:15\n",
      "   -------------------- ------------------- 63.0/124.9 MB 4.4 MB/s eta 0:00:14\n",
      "   -------------------- ------------------- 63.1/124.9 MB 4.4 MB/s eta 0:00:15\n",
      "   -------------------- ------------------- 63.3/124.9 MB 4.4 MB/s eta 0:00:15\n",
      "   -------------------- ------------------- 63.6/124.9 MB 4.4 MB/s eta 0:00:14\n",
      "   -------------------- ------------------- 63.7/124.9 MB 4.4 MB/s eta 0:00:15\n",
      "   -------------------- ------------------- 63.9/124.9 MB 4.4 MB/s eta 0:00:14\n",
      "   -------------------- ------------------- 64.1/124.9 MB 4.3 MB/s eta 0:00:15\n",
      "   -------------------- ------------------- 64.1/124.9 MB 4.3 MB/s eta 0:00:15\n",
      "   -------------------- ------------------- 64.3/124.9 MB 4.2 MB/s eta 0:00:15\n",
      "   -------------------- ------------------- 64.6/124.9 MB 4.2 MB/s eta 0:00:15\n",
      "   -------------------- ------------------- 64.8/124.9 MB 4.2 MB/s eta 0:00:15\n",
      "   -------------------- ------------------- 65.0/124.9 MB 4.2 MB/s eta 0:00:15\n",
      "   -------------------- ------------------- 65.1/124.9 MB 4.2 MB/s eta 0:00:15\n",
      "   -------------------- ------------------- 65.3/124.9 MB 4.2 MB/s eta 0:00:15\n",
      "   --------------------- ------------------ 65.7/124.9 MB 4.2 MB/s eta 0:00:15\n",
      "   --------------------- ------------------ 65.8/124.9 MB 4.1 MB/s eta 0:00:15\n",
      "   --------------------- ------------------ 66.1/124.9 MB 4.1 MB/s eta 0:00:15\n",
      "   --------------------- ------------------ 66.3/124.9 MB 4.1 MB/s eta 0:00:15\n",
      "   --------------------- ------------------ 66.5/124.9 MB 4.1 MB/s eta 0:00:15\n",
      "   --------------------- ------------------ 66.7/124.9 MB 4.1 MB/s eta 0:00:15\n",
      "   --------------------- ------------------ 67.0/124.9 MB 4.1 MB/s eta 0:00:15\n",
      "   --------------------- ------------------ 67.2/124.9 MB 4.1 MB/s eta 0:00:15\n",
      "   --------------------- ------------------ 67.3/124.9 MB 4.1 MB/s eta 0:00:15\n",
      "   --------------------- ------------------ 67.6/124.9 MB 4.1 MB/s eta 0:00:15\n",
      "   --------------------- ------------------ 67.9/124.9 MB 4.1 MB/s eta 0:00:14\n",
      "   --------------------- ------------------ 68.2/124.9 MB 4.1 MB/s eta 0:00:14\n",
      "   --------------------- ------------------ 68.5/124.9 MB 4.1 MB/s eta 0:00:14\n",
      "   ---------------------- ----------------- 68.7/124.9 MB 4.1 MB/s eta 0:00:14\n",
      "   ---------------------- ----------------- 69.0/124.9 MB 4.2 MB/s eta 0:00:14\n",
      "   ---------------------- ----------------- 69.3/124.9 MB 4.2 MB/s eta 0:00:14\n",
      "   ---------------------- ----------------- 69.6/124.9 MB 4.3 MB/s eta 0:00:14\n",
      "   ---------------------- ----------------- 69.8/124.9 MB 4.4 MB/s eta 0:00:13\n",
      "   ---------------------- ----------------- 70.1/124.9 MB 4.4 MB/s eta 0:00:13\n",
      "   ---------------------- ----------------- 70.3/124.9 MB 4.4 MB/s eta 0:00:13\n",
      "   ---------------------- ----------------- 70.5/124.9 MB 4.5 MB/s eta 0:00:13\n",
      "   ---------------------- ----------------- 70.6/124.9 MB 4.4 MB/s eta 0:00:13\n",
      "   ---------------------- ----------------- 70.9/124.9 MB 4.4 MB/s eta 0:00:13\n",
      "   ---------------------- ----------------- 71.1/124.9 MB 4.5 MB/s eta 0:00:12\n",
      "   ---------------------- ----------------- 71.4/124.9 MB 4.5 MB/s eta 0:00:12\n",
      "   ---------------------- ----------------- 71.5/124.9 MB 4.5 MB/s eta 0:00:12\n",
      "   ----------------------- ---------------- 71.9/124.9 MB 4.6 MB/s eta 0:00:12\n",
      "   ----------------------- ---------------- 72.1/124.9 MB 4.6 MB/s eta 0:00:12\n",
      "   ----------------------- ---------------- 72.2/124.9 MB 4.5 MB/s eta 0:00:12\n",
      "   ----------------------- ---------------- 72.3/124.9 MB 4.5 MB/s eta 0:00:12\n",
      "   ----------------------- ---------------- 72.4/124.9 MB 4.4 MB/s eta 0:00:12\n",
      "   ----------------------- ---------------- 72.5/124.9 MB 4.4 MB/s eta 0:00:12\n",
      "   ----------------------- ---------------- 72.6/124.9 MB 4.4 MB/s eta 0:00:12\n",
      "   ----------------------- ---------------- 72.9/124.9 MB 4.4 MB/s eta 0:00:12\n",
      "   ----------------------- ---------------- 72.9/124.9 MB 4.3 MB/s eta 0:00:12\n",
      "   ----------------------- ---------------- 73.2/124.9 MB 4.3 MB/s eta 0:00:13\n",
      "   ----------------------- ---------------- 73.3/124.9 MB 4.3 MB/s eta 0:00:12\n",
      "   ----------------------- ---------------- 73.5/124.9 MB 4.3 MB/s eta 0:00:12\n",
      "   ----------------------- ---------------- 73.8/124.9 MB 4.3 MB/s eta 0:00:12\n",
      "   ----------------------- ---------------- 74.0/124.9 MB 4.3 MB/s eta 0:00:12\n",
      "   ----------------------- ---------------- 74.2/124.9 MB 4.4 MB/s eta 0:00:12\n",
      "   ----------------------- ---------------- 74.5/124.9 MB 4.5 MB/s eta 0:00:12\n",
      "   ----------------------- ---------------- 74.7/124.9 MB 4.5 MB/s eta 0:00:12\n",
      "   ----------------------- ---------------- 74.9/124.9 MB 4.5 MB/s eta 0:00:12\n",
      "   ------------------------ --------------- 75.1/124.9 MB 4.5 MB/s eta 0:00:12\n",
      "   ------------------------ --------------- 75.3/124.9 MB 4.5 MB/s eta 0:00:11\n",
      "   ------------------------ --------------- 75.4/124.9 MB 4.5 MB/s eta 0:00:11\n",
      "   ------------------------ --------------- 75.7/124.9 MB 4.5 MB/s eta 0:00:11\n",
      "   ------------------------ --------------- 75.9/124.9 MB 4.5 MB/s eta 0:00:11\n",
      "   ------------------------ --------------- 76.1/124.9 MB 4.5 MB/s eta 0:00:11\n",
      "   ------------------------ --------------- 76.4/124.9 MB 4.5 MB/s eta 0:00:11\n",
      "   ------------------------ --------------- 76.8/124.9 MB 4.5 MB/s eta 0:00:11\n",
      "   ------------------------ --------------- 77.2/124.9 MB 4.5 MB/s eta 0:00:11\n",
      "   ------------------------ --------------- 77.5/124.9 MB 4.5 MB/s eta 0:00:11\n",
      "   ------------------------ --------------- 77.8/124.9 MB 4.6 MB/s eta 0:00:11\n",
      "   ------------------------ --------------- 78.0/124.9 MB 4.6 MB/s eta 0:00:11\n",
      "   ------------------------- -------------- 78.3/124.9 MB 4.6 MB/s eta 0:00:11\n",
      "   ------------------------- -------------- 78.6/124.9 MB 4.5 MB/s eta 0:00:11\n",
      "   ------------------------- -------------- 78.7/124.9 MB 4.6 MB/s eta 0:00:11\n",
      "   ------------------------- -------------- 79.0/124.9 MB 4.5 MB/s eta 0:00:11\n",
      "   ------------------------- -------------- 79.3/124.9 MB 4.5 MB/s eta 0:00:11\n",
      "   ------------------------- -------------- 79.6/124.9 MB 4.5 MB/s eta 0:00:10\n",
      "   ------------------------- -------------- 79.8/124.9 MB 4.5 MB/s eta 0:00:10\n",
      "   ------------------------- -------------- 80.1/124.9 MB 4.5 MB/s eta 0:00:10\n",
      "   ------------------------- -------------- 80.4/124.9 MB 4.5 MB/s eta 0:00:10\n",
      "   ------------------------- -------------- 80.6/124.9 MB 4.5 MB/s eta 0:00:10\n",
      "   ------------------------- -------------- 80.8/124.9 MB 4.6 MB/s eta 0:00:10\n",
      "   ------------------------- -------------- 81.1/124.9 MB 4.6 MB/s eta 0:00:10\n",
      "   -------------------------- ------------- 81.4/124.9 MB 4.6 MB/s eta 0:00:10\n",
      "   -------------------------- ------------- 81.6/124.9 MB 4.6 MB/s eta 0:00:10\n",
      "   -------------------------- ------------- 81.7/124.9 MB 4.6 MB/s eta 0:00:10\n",
      "   -------------------------- ------------- 81.9/124.9 MB 4.5 MB/s eta 0:00:10\n",
      "   -------------------------- ------------- 82.2/124.9 MB 4.5 MB/s eta 0:00:10\n",
      "   -------------------------- ------------- 82.4/124.9 MB 4.6 MB/s eta 0:00:10\n",
      "   -------------------------- ------------- 82.7/124.9 MB 4.8 MB/s eta 0:00:09\n",
      "   -------------------------- ------------- 82.9/124.9 MB 4.9 MB/s eta 0:00:09\n",
      "   -------------------------- ------------- 83.2/124.9 MB 4.9 MB/s eta 0:00:09\n",
      "   -------------------------- ------------- 83.4/124.9 MB 5.0 MB/s eta 0:00:09\n",
      "   -------------------------- ------------- 83.6/124.9 MB 5.0 MB/s eta 0:00:09\n",
      "   -------------------------- ------------- 83.8/124.9 MB 5.1 MB/s eta 0:00:09\n",
      "   -------------------------- ------------- 83.9/124.9 MB 5.0 MB/s eta 0:00:09\n",
      "   -------------------------- ------------- 84.1/124.9 MB 4.9 MB/s eta 0:00:09\n",
      "   -------------------------- ------------- 84.3/124.9 MB 4.9 MB/s eta 0:00:09\n",
      "   --------------------------- ------------ 84.5/124.9 MB 4.9 MB/s eta 0:00:09\n",
      "   --------------------------- ------------ 84.7/124.9 MB 4.9 MB/s eta 0:00:09\n",
      "   --------------------------- ------------ 84.8/124.9 MB 4.9 MB/s eta 0:00:09\n",
      "   --------------------------- ------------ 84.9/124.9 MB 4.8 MB/s eta 0:00:09\n",
      "   --------------------------- ------------ 84.9/124.9 MB 4.7 MB/s eta 0:00:09\n",
      "   --------------------------- ------------ 85.2/124.9 MB 4.7 MB/s eta 0:00:09\n",
      "   --------------------------- ------------ 85.4/124.9 MB 4.7 MB/s eta 0:00:09\n",
      "   --------------------------- ------------ 85.5/124.9 MB 4.7 MB/s eta 0:00:09\n",
      "   --------------------------- ------------ 85.7/124.9 MB 4.7 MB/s eta 0:00:09\n",
      "   --------------------------- ------------ 86.0/124.9 MB 4.7 MB/s eta 0:00:09\n",
      "   --------------------------- ------------ 86.2/124.9 MB 4.7 MB/s eta 0:00:09\n",
      "   --------------------------- ------------ 86.4/124.9 MB 4.7 MB/s eta 0:00:09\n",
      "   --------------------------- ------------ 86.6/124.9 MB 4.6 MB/s eta 0:00:09\n",
      "   --------------------------- ------------ 86.8/124.9 MB 4.6 MB/s eta 0:00:09\n",
      "   --------------------------- ------------ 87.0/124.9 MB 4.6 MB/s eta 0:00:09\n",
      "   --------------------------- ------------ 87.3/124.9 MB 4.6 MB/s eta 0:00:09\n",
      "   --------------------------- ------------ 87.4/124.9 MB 4.6 MB/s eta 0:00:09\n",
      "   ---------------------------- ----------- 87.5/124.9 MB 4.5 MB/s eta 0:00:09\n",
      "   ---------------------------- ----------- 87.7/124.9 MB 4.5 MB/s eta 0:00:09\n",
      "   ---------------------------- ----------- 87.9/124.9 MB 4.5 MB/s eta 0:00:09\n",
      "   ---------------------------- ----------- 88.2/124.9 MB 4.5 MB/s eta 0:00:09\n",
      "   ---------------------------- ----------- 88.4/124.9 MB 4.5 MB/s eta 0:00:09\n",
      "   ---------------------------- ----------- 88.4/124.9 MB 4.4 MB/s eta 0:00:09\n",
      "   ---------------------------- ----------- 88.6/124.9 MB 4.4 MB/s eta 0:00:09\n",
      "   ---------------------------- ----------- 88.8/124.9 MB 4.3 MB/s eta 0:00:09\n",
      "   ---------------------------- ----------- 89.0/124.9 MB 4.4 MB/s eta 0:00:09\n",
      "   ---------------------------- ----------- 89.2/124.9 MB 4.4 MB/s eta 0:00:09\n",
      "   ---------------------------- ----------- 89.4/124.9 MB 4.3 MB/s eta 0:00:09\n",
      "   ---------------------------- ----------- 89.7/124.9 MB 4.3 MB/s eta 0:00:09\n",
      "   ---------------------------- ----------- 89.9/124.9 MB 4.3 MB/s eta 0:00:09\n",
      "   ---------------------------- ----------- 90.1/124.9 MB 4.3 MB/s eta 0:00:09\n",
      "   ---------------------------- ----------- 90.3/124.9 MB 4.3 MB/s eta 0:00:09\n",
      "   ---------------------------- ----------- 90.5/124.9 MB 4.3 MB/s eta 0:00:09\n",
      "   ----------------------------- ---------- 90.6/124.9 MB 4.2 MB/s eta 0:00:09\n",
      "   ----------------------------- ---------- 90.8/124.9 MB 4.2 MB/s eta 0:00:09\n",
      "   ----------------------------- ---------- 91.0/124.9 MB 4.2 MB/s eta 0:00:09\n",
      "   ----------------------------- ---------- 91.2/124.9 MB 4.1 MB/s eta 0:00:09\n",
      "   ----------------------------- ---------- 91.5/124.9 MB 4.1 MB/s eta 0:00:09\n",
      "   ----------------------------- ---------- 91.6/124.9 MB 4.1 MB/s eta 0:00:09\n",
      "   ----------------------------- ---------- 91.8/124.9 MB 4.1 MB/s eta 0:00:09\n",
      "   ----------------------------- ---------- 92.1/124.9 MB 4.2 MB/s eta 0:00:08\n",
      "   ----------------------------- ---------- 92.4/124.9 MB 4.2 MB/s eta 0:00:08\n",
      "   ----------------------------- ---------- 92.4/124.9 MB 4.2 MB/s eta 0:00:08\n",
      "   ----------------------------- ---------- 92.5/124.9 MB 4.1 MB/s eta 0:00:08\n",
      "   ----------------------------- ---------- 92.6/124.9 MB 4.0 MB/s eta 0:00:08\n",
      "   ----------------------------- ---------- 92.8/124.9 MB 4.0 MB/s eta 0:00:08\n",
      "   ----------------------------- ---------- 92.8/124.9 MB 3.9 MB/s eta 0:00:09\n",
      "   ----------------------------- ---------- 92.9/124.9 MB 3.9 MB/s eta 0:00:09\n",
      "   ----------------------------- ---------- 93.0/124.9 MB 3.8 MB/s eta 0:00:09\n",
      "   ----------------------------- ---------- 93.2/124.9 MB 3.9 MB/s eta 0:00:09\n",
      "   ----------------------------- ---------- 93.3/124.9 MB 3.8 MB/s eta 0:00:09\n",
      "   ----------------------------- ---------- 93.5/124.9 MB 3.8 MB/s eta 0:00:09\n",
      "   ----------------------------- ---------- 93.6/124.9 MB 3.8 MB/s eta 0:00:09\n",
      "   ------------------------------ --------- 93.8/124.9 MB 3.7 MB/s eta 0:00:09\n",
      "   ------------------------------ --------- 94.1/124.9 MB 3.7 MB/s eta 0:00:09\n",
      "   ------------------------------ --------- 94.3/124.9 MB 3.8 MB/s eta 0:00:08\n",
      "   ------------------------------ --------- 94.5/124.9 MB 3.8 MB/s eta 0:00:08\n",
      "   ------------------------------ --------- 94.8/124.9 MB 3.8 MB/s eta 0:00:08\n",
      "   ------------------------------ --------- 95.0/124.9 MB 3.9 MB/s eta 0:00:08\n",
      "   ------------------------------ --------- 95.3/124.9 MB 4.0 MB/s eta 0:00:08\n",
      "   ------------------------------ --------- 95.4/124.9 MB 4.0 MB/s eta 0:00:08\n",
      "   ------------------------------ --------- 95.7/124.9 MB 4.0 MB/s eta 0:00:08\n",
      "   ------------------------------ --------- 95.9/124.9 MB 4.0 MB/s eta 0:00:08\n",
      "   ------------------------------ --------- 96.1/124.9 MB 4.0 MB/s eta 0:00:08\n",
      "   ------------------------------ --------- 96.3/124.9 MB 4.0 MB/s eta 0:00:08\n",
      "   ------------------------------ --------- 96.4/124.9 MB 4.0 MB/s eta 0:00:08\n",
      "   ------------------------------ --------- 96.5/124.9 MB 4.0 MB/s eta 0:00:08\n",
      "   ------------------------------ --------- 96.6/124.9 MB 3.9 MB/s eta 0:00:08\n",
      "   ------------------------------- -------- 96.8/124.9 MB 3.9 MB/s eta 0:00:08\n",
      "   ------------------------------- -------- 97.0/124.9 MB 3.9 MB/s eta 0:00:08\n",
      "   ------------------------------- -------- 97.3/124.9 MB 3.9 MB/s eta 0:00:08\n",
      "   ------------------------------- -------- 97.4/124.9 MB 3.9 MB/s eta 0:00:08\n",
      "   ------------------------------- -------- 97.6/124.9 MB 3.9 MB/s eta 0:00:07\n",
      "   ------------------------------- -------- 97.8/124.9 MB 4.0 MB/s eta 0:00:07\n",
      "   ------------------------------- -------- 97.8/124.9 MB 4.0 MB/s eta 0:00:07\n",
      "   ------------------------------- -------- 97.9/124.9 MB 3.9 MB/s eta 0:00:08\n",
      "   ------------------------------- -------- 98.1/124.9 MB 3.8 MB/s eta 0:00:08\n",
      "   ------------------------------- -------- 98.5/124.9 MB 3.8 MB/s eta 0:00:07\n",
      "   ------------------------------- -------- 98.6/124.9 MB 3.9 MB/s eta 0:00:07\n",
      "   ------------------------------- -------- 98.8/124.9 MB 3.9 MB/s eta 0:00:07\n",
      "   ------------------------------- -------- 99.0/124.9 MB 3.8 MB/s eta 0:00:07\n",
      "   ------------------------------- -------- 99.2/124.9 MB 3.8 MB/s eta 0:00:07\n",
      "   ------------------------------- -------- 99.4/124.9 MB 3.9 MB/s eta 0:00:07\n",
      "   ------------------------------- -------- 99.6/124.9 MB 3.9 MB/s eta 0:00:07\n",
      "   ------------------------------- -------- 99.9/124.9 MB 3.9 MB/s eta 0:00:07\n",
      "   -------------------------------- ------- 100.1/124.9 MB 3.9 MB/s eta 0:00:07\n",
      "   -------------------------------- ------- 100.3/124.9 MB 3.9 MB/s eta 0:00:07\n",
      "   -------------------------------- ------- 100.5/124.9 MB 3.9 MB/s eta 0:00:07\n",
      "   -------------------------------- ------- 100.7/124.9 MB 3.9 MB/s eta 0:00:07\n",
      "   -------------------------------- ------- 101.0/124.9 MB 3.9 MB/s eta 0:00:07\n",
      "   -------------------------------- ------- 101.1/124.9 MB 3.9 MB/s eta 0:00:07\n",
      "   -------------------------------- ------- 101.3/124.9 MB 3.9 MB/s eta 0:00:07\n",
      "   -------------------------------- ------- 101.5/124.9 MB 3.9 MB/s eta 0:00:06\n",
      "   -------------------------------- ------- 101.6/124.9 MB 3.9 MB/s eta 0:00:07\n",
      "   -------------------------------- ------- 101.7/124.9 MB 3.8 MB/s eta 0:00:07\n",
      "   -------------------------------- ------- 101.8/124.9 MB 3.8 MB/s eta 0:00:07\n",
      "   -------------------------------- ------- 102.0/124.9 MB 3.8 MB/s eta 0:00:07\n",
      "   -------------------------------- ------- 102.3/124.9 MB 3.8 MB/s eta 0:00:06\n",
      "   -------------------------------- ------- 102.5/124.9 MB 3.8 MB/s eta 0:00:06\n",
      "   -------------------------------- ------- 102.7/124.9 MB 3.9 MB/s eta 0:00:06\n",
      "   -------------------------------- ------- 102.9/124.9 MB 3.9 MB/s eta 0:00:06\n",
      "   --------------------------------- ------ 103.1/124.9 MB 3.9 MB/s eta 0:00:06\n",
      "   --------------------------------- ------ 103.3/124.9 MB 4.0 MB/s eta 0:00:06\n",
      "   --------------------------------- ------ 103.6/124.9 MB 4.1 MB/s eta 0:00:06\n",
      "   --------------------------------- ------ 103.7/124.9 MB 4.1 MB/s eta 0:00:06\n",
      "   --------------------------------- ------ 103.8/124.9 MB 4.0 MB/s eta 0:00:06\n",
      "   --------------------------------- ------ 103.8/124.9 MB 3.9 MB/s eta 0:00:06\n",
      "   --------------------------------- ------ 103.9/124.9 MB 3.9 MB/s eta 0:00:06\n",
      "   --------------------------------- ------ 104.1/124.9 MB 3.9 MB/s eta 0:00:06\n",
      "   --------------------------------- ------ 104.3/124.9 MB 3.9 MB/s eta 0:00:06\n",
      "   --------------------------------- ------ 104.6/124.9 MB 3.9 MB/s eta 0:00:06\n",
      "   --------------------------------- ------ 104.8/124.9 MB 3.9 MB/s eta 0:00:06\n",
      "   --------------------------------- ------ 105.0/124.9 MB 3.9 MB/s eta 0:00:06\n",
      "   --------------------------------- ------ 105.3/124.9 MB 3.9 MB/s eta 0:00:06\n",
      "   --------------------------------- ------ 105.5/124.9 MB 3.9 MB/s eta 0:00:06\n",
      "   --------------------------------- ------ 105.7/124.9 MB 3.9 MB/s eta 0:00:05\n",
      "   --------------------------------- ------ 105.9/124.9 MB 3.8 MB/s eta 0:00:05\n",
      "   --------------------------------- ------ 106.0/124.9 MB 3.8 MB/s eta 0:00:05\n",
      "   ---------------------------------- ----- 106.3/124.9 MB 3.9 MB/s eta 0:00:05\n",
      "   ---------------------------------- ----- 106.5/124.9 MB 3.9 MB/s eta 0:00:05\n",
      "   ---------------------------------- ----- 106.7/124.9 MB 3.9 MB/s eta 0:00:05\n",
      "   ---------------------------------- ----- 106.9/124.9 MB 4.0 MB/s eta 0:00:05\n",
      "   ---------------------------------- ----- 107.2/124.9 MB 4.0 MB/s eta 0:00:05\n",
      "   ---------------------------------- ----- 107.4/124.9 MB 4.0 MB/s eta 0:00:05\n",
      "   ---------------------------------- ----- 107.5/124.9 MB 3.9 MB/s eta 0:00:05\n",
      "   ---------------------------------- ----- 107.8/124.9 MB 4.0 MB/s eta 0:00:05\n",
      "   ---------------------------------- ----- 108.0/124.9 MB 4.0 MB/s eta 0:00:05\n",
      "   ---------------------------------- ----- 108.2/124.9 MB 4.1 MB/s eta 0:00:05\n",
      "   ---------------------------------- ----- 108.4/124.9 MB 4.1 MB/s eta 0:00:05\n",
      "   ---------------------------------- ----- 108.6/124.9 MB 4.1 MB/s eta 0:00:04\n",
      "   ---------------------------------- ----- 108.9/124.9 MB 4.1 MB/s eta 0:00:04\n",
      "   ---------------------------------- ----- 109.1/124.9 MB 4.2 MB/s eta 0:00:04\n",
      "   ---------------------------------- ----- 109.3/124.9 MB 4.2 MB/s eta 0:00:04\n",
      "   ----------------------------------- ---- 109.5/124.9 MB 4.2 MB/s eta 0:00:04\n",
      "   ----------------------------------- ---- 109.8/124.9 MB 4.2 MB/s eta 0:00:04\n",
      "   ----------------------------------- ---- 109.9/124.9 MB 4.1 MB/s eta 0:00:04\n",
      "   ----------------------------------- ---- 110.3/124.9 MB 4.2 MB/s eta 0:00:04\n",
      "   ----------------------------------- ---- 110.4/124.9 MB 4.2 MB/s eta 0:00:04\n",
      "   ----------------------------------- ---- 110.8/124.9 MB 4.2 MB/s eta 0:00:04\n",
      "   ----------------------------------- ---- 111.0/124.9 MB 4.2 MB/s eta 0:00:04\n",
      "   ----------------------------------- ---- 111.2/124.9 MB 4.2 MB/s eta 0:00:04\n",
      "   ----------------------------------- ---- 111.4/124.9 MB 4.3 MB/s eta 0:00:04\n",
      "   ----------------------------------- ---- 111.7/124.9 MB 4.3 MB/s eta 0:00:04\n",
      "   ----------------------------------- ---- 112.0/124.9 MB 4.4 MB/s eta 0:00:03\n",
      "   ----------------------------------- ---- 112.2/124.9 MB 4.5 MB/s eta 0:00:03\n",
      "   ------------------------------------ --- 112.4/124.9 MB 4.5 MB/s eta 0:00:03\n",
      "   ------------------------------------ --- 112.4/124.9 MB 4.5 MB/s eta 0:00:03\n",
      "   ------------------------------------ --- 112.6/124.9 MB 4.3 MB/s eta 0:00:03\n",
      "   ------------------------------------ --- 112.8/124.9 MB 4.3 MB/s eta 0:00:03\n",
      "   ------------------------------------ --- 113.0/124.9 MB 4.3 MB/s eta 0:00:03\n",
      "   ------------------------------------ --- 113.2/124.9 MB 4.3 MB/s eta 0:00:03\n",
      "   ------------------------------------ --- 113.5/124.9 MB 4.3 MB/s eta 0:00:03\n",
      "   ------------------------------------ --- 113.6/124.9 MB 4.3 MB/s eta 0:00:03\n",
      "   ------------------------------------ --- 113.9/124.9 MB 4.3 MB/s eta 0:00:03\n",
      "   ------------------------------------ --- 114.1/124.9 MB 4.5 MB/s eta 0:00:03\n",
      "   ------------------------------------ --- 114.3/124.9 MB 4.6 MB/s eta 0:00:03\n",
      "   ------------------------------------ --- 114.5/124.9 MB 4.6 MB/s eta 0:00:03\n",
      "   ------------------------------------ --- 114.7/124.9 MB 4.6 MB/s eta 0:00:03\n",
      "   ------------------------------------ --- 114.9/124.9 MB 4.6 MB/s eta 0:00:03\n",
      "   ------------------------------------ --- 115.1/124.9 MB 4.5 MB/s eta 0:00:03\n",
      "   ------------------------------------ --- 115.3/124.9 MB 4.6 MB/s eta 0:00:03\n",
      "   ------------------------------------ --- 115.5/124.9 MB 4.6 MB/s eta 0:00:03\n",
      "   ------------------------------------- -- 115.7/124.9 MB 4.5 MB/s eta 0:00:03\n",
      "   ------------------------------------- -- 115.9/124.9 MB 4.6 MB/s eta 0:00:02\n",
      "   ------------------------------------- -- 116.1/124.9 MB 4.5 MB/s eta 0:00:02\n",
      "   ------------------------------------- -- 116.3/124.9 MB 4.6 MB/s eta 0:00:02\n",
      "   ------------------------------------- -- 116.6/124.9 MB 4.6 MB/s eta 0:00:02\n",
      "   ------------------------------------- -- 116.8/124.9 MB 4.6 MB/s eta 0:00:02\n",
      "   ------------------------------------- -- 117.1/124.9 MB 4.6 MB/s eta 0:00:02\n",
      "   ------------------------------------- -- 117.4/124.9 MB 4.6 MB/s eta 0:00:02\n",
      "   ------------------------------------- -- 117.6/124.9 MB 4.6 MB/s eta 0:00:02\n",
      "   ------------------------------------- -- 117.9/124.9 MB 4.7 MB/s eta 0:00:02\n",
      "   ------------------------------------- -- 118.1/124.9 MB 4.7 MB/s eta 0:00:02\n",
      "   ------------------------------------- -- 118.4/124.9 MB 4.7 MB/s eta 0:00:02\n",
      "   ------------------------------------- -- 118.6/124.9 MB 4.7 MB/s eta 0:00:02\n",
      "   -------------------------------------- - 118.9/124.9 MB 4.7 MB/s eta 0:00:02\n",
      "   -------------------------------------- - 119.1/124.9 MB 4.7 MB/s eta 0:00:02\n",
      "   -------------------------------------- - 119.3/124.9 MB 4.8 MB/s eta 0:00:02\n",
      "   -------------------------------------- - 119.6/124.9 MB 4.8 MB/s eta 0:00:02\n",
      "   -------------------------------------- - 119.8/124.9 MB 4.8 MB/s eta 0:00:02\n",
      "Note: you may need to restart the kernel to use updated packages.\n",
      "   -------------------------------------- - 120.1/124.9 MB 4.8 MB/s eta 0:00:02\n",
      "   -------------------------------------- - 120.2/124.9 MB 4.8 MB/s eta 0:00:01\n",
      "   -------------------------------------- - 120.5/124.9 MB 4.8 MB/s eta 0:00:01\n",
      "   -------------------------------------- - 120.7/124.9 MB 4.8 MB/s eta 0:00:01\n",
      "   -------------------------------------- - 120.8/124.9 MB 4.7 MB/s eta 0:00:01\n",
      "   -------------------------------------- - 121.0/124.9 MB 4.7 MB/s eta 0:00:01\n",
      "   -------------------------------------- - 121.3/124.9 MB 4.7 MB/s eta 0:00:01\n",
      "   -------------------------------------- - 121.5/124.9 MB 4.7 MB/s eta 0:00:01\n",
      "   -------------------------------------- - 121.7/124.9 MB 4.6 MB/s eta 0:00:01\n",
      "   ---------------------------------------  121.9/124.9 MB 4.6 MB/s eta 0:00:01\n",
      "   ---------------------------------------  122.1/124.9 MB 4.6 MB/s eta 0:00:01\n",
      "   ---------------------------------------  122.3/124.9 MB 4.6 MB/s eta 0:00:01\n",
      "   ---------------------------------------  122.5/124.9 MB 4.5 MB/s eta 0:00:01\n",
      "   ---------------------------------------  122.7/124.9 MB 4.7 MB/s eta 0:00:01\n",
      "   ---------------------------------------  122.8/124.9 MB 4.6 MB/s eta 0:00:01\n",
      "   ---------------------------------------  123.1/124.9 MB 4.7 MB/s eta 0:00:01\n",
      "   ---------------------------------------  123.4/124.9 MB 4.7 MB/s eta 0:00:01\n",
      "   ---------------------------------------  123.5/124.9 MB 4.7 MB/s eta 0:00:01\n",
      "   ---------------------------------------  123.8/124.9 MB 4.6 MB/s eta 0:00:01\n",
      "   ---------------------------------------  124.1/124.9 MB 4.7 MB/s eta 0:00:01\n",
      "   ---------------------------------------  124.3/124.9 MB 4.7 MB/s eta 0:00:01\n",
      "   ---------------------------------------  124.4/124.9 MB 4.7 MB/s eta 0:00:01\n",
      "   ---------------------------------------  124.7/124.9 MB 4.7 MB/s eta 0:00:01\n",
      "   ---------------------------------------  124.9/124.9 MB 4.7 MB/s eta 0:00:01\n",
      "   ---------------------------------------  124.9/124.9 MB 4.7 MB/s eta 0:00:01\n",
      "   ---------------------------------------  124.9/124.9 MB 4.7 MB/s eta 0:00:01\n",
      "   ---------------------------------------  124.9/124.9 MB 4.7 MB/s eta 0:00:01\n",
      "   ---------------------------------------  124.9/124.9 MB 4.7 MB/s eta 0:00:01\n",
      "   ---------------------------------------  124.9/124.9 MB 4.7 MB/s eta 0:00:01\n",
      "   ---------------------------------------  124.9/124.9 MB 4.7 MB/s eta 0:00:01\n",
      "   ---------------------------------------  124.9/124.9 MB 4.7 MB/s eta 0:00:01\n",
      "   ---------------------------------------  124.9/124.9 MB 4.7 MB/s eta 0:00:01\n",
      "   ---------------------------------------- 124.9/124.9 MB 3.5 MB/s eta 0:00:00\n",
      "Installing collected packages: xgboost\n",
      "Successfully installed xgboost-2.1.1\n"
     ]
    }
   ],
   "source": [
    "pip install xgboost"
   ]
  },
  {
   "cell_type": "code",
   "execution_count": 65,
   "id": "ad8b06c8",
   "metadata": {},
   "outputs": [],
   "source": [
    "from sklearn.linear_model import LogisticRegression\n",
    "from sklearn.svm import SVC\n",
    "from sklearn.naive_bayes import MultinomialNB\n",
    "from sklearn.tree import DecisionTreeClassifier\n",
    "from sklearn.neighbors import KNeighborsClassifier\n",
    "from sklearn.ensemble import RandomForestClassifier\n",
    "from sklearn.ensemble import AdaBoostClassifier\n",
    "from sklearn.ensemble import BaggingClassifier\n",
    "# from sklearn.ensemble import ExtraTreeClassifier\n",
    "from sklearn.tree import ExtraTreeClassifier\n",
    "from sklearn.ensemble import GradientBoostingClassifier\n",
    "from xgboost import XGBClassifier"
   ]
  },
  {
   "cell_type": "code",
   "execution_count": 66,
   "id": "11a84757",
   "metadata": {},
   "outputs": [],
   "source": [
    "svc=SVC(kernel=\"sigmoid\",gamma=1.0)\n",
    "knc=KNeighborsClassifier()\n",
    "mnb=MultinomialNB()\n",
    "dtc=DecisionTreeClassifier(max_depth=5)\n",
    "lrc=LogisticRegression(solver=\"liblinear\",penalty=\"l1\")\n",
    "rfc=RandomForestClassifier(n_estimators=50,random_state=2)\n",
    "abc=AdaBoostClassifier(n_estimators=50,random_state=2)\n",
    "bc=BaggingClassifier(n_estimators=50,random_state=2)\n",
    "etc=ExtraTreeClassifier()\n",
    "gbdt=GradientBoostingClassifier(n_estimators=50,random_state=2)\n",
    "xgb=XGBClassifier(n_estimators=50,random_state=2)"
   ]
  },
  {
   "cell_type": "code",
   "execution_count": 67,
   "id": "dcec4206",
   "metadata": {},
   "outputs": [],
   "source": [
    "clfs={\n",
    "    \"SVC\":svc,\n",
    "    \"KN\":knc,\n",
    "    \"NB\":mnb,\n",
    "    \"DT\":dtc,\n",
    "    \"LR\":lrc,\n",
    "    \"RF\":rfc,\n",
    "    \"AdaBoost\":abc,\n",
    "    \"Bgc\":bc,\n",
    "    \"ETC\":etc,\n",
    "    \"GBDT\":gbdt,\n",
    "    \"xgb\":xgb\n",
    "}"
   ]
  },
  {
   "cell_type": "code",
   "execution_count": 68,
   "id": "19e724ec",
   "metadata": {},
   "outputs": [],
   "source": [
    "def train_classifier(clf,x_train,y_train,x_test,y_test):\n",
    "    clf.fit(x_train,y_train)\n",
    "    y_pred=clf.predict(x_test)\n",
    "    accuracy=accuracy_score(y_test,y_pred)\n",
    "    precision=precision_score(y_test,y_pred)\n",
    "    return accuracy,precision\n"
   ]
  },
  {
   "cell_type": "code",
   "execution_count": 69,
   "id": "6f52b6aa",
   "metadata": {},
   "outputs": [
    {
     "data": {
      "text/plain": [
       "(0.9718992248062015, 0.9803921568627451)"
      ]
     },
     "execution_count": 69,
     "metadata": {},
     "output_type": "execute_result"
    }
   ],
   "source": [
    "train_classifier(svc,x_train,y_train,x_test,y_test)"
   ]
  },
  {
   "cell_type": "code",
   "execution_count": 70,
   "id": "5b2b52a2",
   "metadata": {},
   "outputs": [
    {
     "name": "stdout",
     "output_type": "stream",
     "text": [
      "SVC\n",
      "0.9718992248062015\n",
      "0.9803921568627451\n",
      "KN\n",
      "0.9040697674418605\n",
      "1.0\n",
      "NB\n",
      "0.9612403100775194\n",
      "1.0\n",
      "DT\n",
      "0.935077519379845\n",
      "0.8191489361702128\n",
      "LR\n",
      "0.9515503875968992\n",
      "0.9230769230769231\n",
      "RF\n",
      "0.9670542635658915\n",
      "1.0\n"
     ]
    },
    {
     "name": "stderr",
     "output_type": "stream",
     "text": [
      "C:\\Users\\DELL\\anaconda3\\Lib\\site-packages\\sklearn\\ensemble\\_weight_boosting.py:519: FutureWarning: The SAMME.R algorithm (the default) is deprecated and will be removed in 1.6. Use the SAMME algorithm to circumvent this warning.\n",
      "  warnings.warn(\n"
     ]
    },
    {
     "name": "stdout",
     "output_type": "stream",
     "text": [
      "AdaBoost\n",
      "0.9631782945736435\n",
      "0.9587628865979382\n",
      "Bgc\n",
      "0.9622093023255814\n",
      "0.9074074074074074\n",
      "ETC\n",
      "0.9534883720930233\n",
      "0.8910891089108911\n",
      "GBDT\n",
      "0.9534883720930233\n",
      "0.9759036144578314\n",
      "xgb\n",
      "0.9728682170542635\n",
      "0.9626168224299065\n"
     ]
    }
   ],
   "source": [
    "accuracy_scores=[]\n",
    "precision_scores=[]\n",
    "for name,clf in clfs.items():\n",
    "    current_accuracy,current_precision=train_classifier(clf,x_train,y_train,x_test,y_test)\n",
    "    print(name)\n",
    "    print(current_accuracy)\n",
    "    print(current_precision)\n",
    "    accuracy_scores.append(current_accuracy)\n",
    "    precision_scores.append(current_precision)"
   ]
  },
  {
   "cell_type": "code",
   "execution_count": 71,
   "id": "a3a4112c",
   "metadata": {},
   "outputs": [],
   "source": [
    "performance_df=pd.DataFrame({\"Algorithm\":clfs.keys(),\"Accuracy\":accuracy_scores,\"Precision\":precision_scores})"
   ]
  },
  {
   "cell_type": "code",
   "execution_count": 72,
   "id": "505ccf86",
   "metadata": {},
   "outputs": [
    {
     "data": {
      "text/html": [
       "<div>\n",
       "<style scoped>\n",
       "    .dataframe tbody tr th:only-of-type {\n",
       "        vertical-align: middle;\n",
       "    }\n",
       "\n",
       "    .dataframe tbody tr th {\n",
       "        vertical-align: top;\n",
       "    }\n",
       "\n",
       "    .dataframe thead th {\n",
       "        text-align: right;\n",
       "    }\n",
       "</style>\n",
       "<table border=\"1\" class=\"dataframe\">\n",
       "  <thead>\n",
       "    <tr style=\"text-align: right;\">\n",
       "      <th></th>\n",
       "      <th>Algorithm</th>\n",
       "      <th>Accuracy</th>\n",
       "      <th>Precision</th>\n",
       "    </tr>\n",
       "  </thead>\n",
       "  <tbody>\n",
       "    <tr>\n",
       "      <th>0</th>\n",
       "      <td>SVC</td>\n",
       "      <td>0.971899</td>\n",
       "      <td>0.980392</td>\n",
       "    </tr>\n",
       "    <tr>\n",
       "      <th>1</th>\n",
       "      <td>KN</td>\n",
       "      <td>0.904070</td>\n",
       "      <td>1.000000</td>\n",
       "    </tr>\n",
       "    <tr>\n",
       "      <th>2</th>\n",
       "      <td>NB</td>\n",
       "      <td>0.961240</td>\n",
       "      <td>1.000000</td>\n",
       "    </tr>\n",
       "    <tr>\n",
       "      <th>3</th>\n",
       "      <td>DT</td>\n",
       "      <td>0.935078</td>\n",
       "      <td>0.819149</td>\n",
       "    </tr>\n",
       "    <tr>\n",
       "      <th>4</th>\n",
       "      <td>LR</td>\n",
       "      <td>0.951550</td>\n",
       "      <td>0.923077</td>\n",
       "    </tr>\n",
       "    <tr>\n",
       "      <th>5</th>\n",
       "      <td>RF</td>\n",
       "      <td>0.967054</td>\n",
       "      <td>1.000000</td>\n",
       "    </tr>\n",
       "    <tr>\n",
       "      <th>6</th>\n",
       "      <td>AdaBoost</td>\n",
       "      <td>0.963178</td>\n",
       "      <td>0.958763</td>\n",
       "    </tr>\n",
       "    <tr>\n",
       "      <th>7</th>\n",
       "      <td>Bgc</td>\n",
       "      <td>0.962209</td>\n",
       "      <td>0.907407</td>\n",
       "    </tr>\n",
       "    <tr>\n",
       "      <th>8</th>\n",
       "      <td>ETC</td>\n",
       "      <td>0.953488</td>\n",
       "      <td>0.891089</td>\n",
       "    </tr>\n",
       "    <tr>\n",
       "      <th>9</th>\n",
       "      <td>GBDT</td>\n",
       "      <td>0.953488</td>\n",
       "      <td>0.975904</td>\n",
       "    </tr>\n",
       "    <tr>\n",
       "      <th>10</th>\n",
       "      <td>xgb</td>\n",
       "      <td>0.972868</td>\n",
       "      <td>0.962617</td>\n",
       "    </tr>\n",
       "  </tbody>\n",
       "</table>\n",
       "</div>"
      ],
      "text/plain": [
       "   Algorithm  Accuracy  Precision\n",
       "0        SVC  0.971899   0.980392\n",
       "1         KN  0.904070   1.000000\n",
       "2         NB  0.961240   1.000000\n",
       "3         DT  0.935078   0.819149\n",
       "4         LR  0.951550   0.923077\n",
       "5         RF  0.967054   1.000000\n",
       "6   AdaBoost  0.963178   0.958763\n",
       "7        Bgc  0.962209   0.907407\n",
       "8        ETC  0.953488   0.891089\n",
       "9       GBDT  0.953488   0.975904\n",
       "10       xgb  0.972868   0.962617"
      ]
     },
     "execution_count": 72,
     "metadata": {},
     "output_type": "execute_result"
    }
   ],
   "source": [
    "performance_df"
   ]
  },
  {
   "cell_type": "code",
   "execution_count": 73,
   "id": "d9940a8e",
   "metadata": {},
   "outputs": [],
   "source": [
    "import pickle\n",
    "pickle.dump(tfidf,open(\"vectorizer.pkl\",\"wb\"))\n",
    "pickle.dump(mnb,open(\"model.pkl\",\"wb\"))"
   ]
  },
  {
   "cell_type": "code",
   "execution_count": 75,
   "id": "371dcccd",
   "metadata": {},
   "outputs": [
    {
     "name": "stdout",
     "output_type": "stream",
     "text": [
      "Collecting streamlit\n",
      "  Obtaining dependency information for streamlit from https://files.pythonhosted.org/packages/b0/68/cf905fd2db4a84dc9b46803512b9765a3e9a6dfaa378a67c8db910c44ab3/streamlit-1.37.1-py2.py3-none-any.whl.metadata\n",
      "  Downloading streamlit-1.37.1-py2.py3-none-any.whl.metadata (8.5 kB)\n",
      "Collecting altair<6,>=4.0 (from streamlit)\n",
      "  Obtaining dependency information for altair<6,>=4.0 from https://files.pythonhosted.org/packages/46/30/2118537233fa72c1d91a81f5908a7e843a6601ccc68b76838ebc4951505f/altair-5.3.0-py3-none-any.whl.metadata\n",
      "  Downloading altair-5.3.0-py3-none-any.whl.metadata (9.2 kB)\n",
      "Collecting blinker<2,>=1.0.0 (from streamlit)\n",
      "  Obtaining dependency information for blinker<2,>=1.0.0 from https://files.pythonhosted.org/packages/bb/2a/10164ed1f31196a2f7f3799368a821765c62851ead0e630ab52b8e14b4d0/blinker-1.8.2-py3-none-any.whl.metadata\n",
      "  Downloading blinker-1.8.2-py3-none-any.whl.metadata (1.6 kB)\n",
      "Collecting cachetools<6,>=4.0 (from streamlit)\n",
      "  Obtaining dependency information for cachetools<6,>=4.0 from https://files.pythonhosted.org/packages/04/e6/a1551acbaa06f3e48b311329828a34bc9c51a8cfaecdeb4d03c329a1ef85/cachetools-5.4.0-py3-none-any.whl.metadata\n",
      "  Downloading cachetools-5.4.0-py3-none-any.whl.metadata (5.3 kB)\n",
      "Requirement already satisfied: click<9,>=7.0 in c:\\users\\dell\\anaconda3\\lib\\site-packages (from streamlit) (8.0.4)\n",
      "Requirement already satisfied: numpy<3,>=1.20 in c:\\users\\dell\\anaconda3\\lib\\site-packages (from streamlit) (1.24.3)\n",
      "Requirement already satisfied: packaging<25,>=20 in c:\\users\\dell\\anaconda3\\lib\\site-packages (from streamlit) (23.1)\n",
      "Requirement already satisfied: pandas<3,>=1.3.0 in c:\\users\\dell\\anaconda3\\lib\\site-packages (from streamlit) (2.0.3)\n",
      "Requirement already satisfied: pillow<11,>=7.1.0 in c:\\users\\dell\\anaconda3\\lib\\site-packages (from streamlit) (9.4.0)\n",
      "Requirement already satisfied: protobuf<6,>=3.20 in c:\\users\\dell\\anaconda3\\lib\\site-packages (from streamlit) (4.25.3)\n",
      "Requirement already satisfied: pyarrow>=7.0 in c:\\users\\dell\\anaconda3\\lib\\site-packages (from streamlit) (11.0.0)\n",
      "Requirement already satisfied: requests<3,>=2.27 in c:\\users\\dell\\anaconda3\\lib\\site-packages (from streamlit) (2.31.0)\n",
      "Requirement already satisfied: rich<14,>=10.14.0 in c:\\users\\dell\\anaconda3\\lib\\site-packages (from streamlit) (13.7.1)\n",
      "Requirement already satisfied: tenacity<9,>=8.1.0 in c:\\users\\dell\\anaconda3\\lib\\site-packages (from streamlit) (8.2.2)\n",
      "Requirement already satisfied: toml<2,>=0.10.1 in c:\\users\\dell\\anaconda3\\lib\\site-packages (from streamlit) (0.10.2)\n",
      "Requirement already satisfied: typing-extensions<5,>=4.3.0 in c:\\users\\dell\\anaconda3\\lib\\site-packages (from streamlit) (4.7.1)\n",
      "Collecting gitpython!=3.1.19,<4,>=3.0.7 (from streamlit)\n",
      "  Obtaining dependency information for gitpython!=3.1.19,<4,>=3.0.7 from https://files.pythonhosted.org/packages/e9/bd/cc3a402a6439c15c3d4294333e13042b915bbeab54edc457c723931fed3f/GitPython-3.1.43-py3-none-any.whl.metadata\n",
      "  Downloading GitPython-3.1.43-py3-none-any.whl.metadata (13 kB)\n",
      "Collecting pydeck<1,>=0.8.0b4 (from streamlit)\n",
      "  Obtaining dependency information for pydeck<1,>=0.8.0b4 from https://files.pythonhosted.org/packages/ab/4c/b888e6cf58bd9db9c93f40d1c6be8283ff49d88919231afe93a6bcf61626/pydeck-0.9.1-py2.py3-none-any.whl.metadata\n",
      "  Downloading pydeck-0.9.1-py2.py3-none-any.whl.metadata (4.1 kB)\n",
      "Requirement already satisfied: tornado<7,>=6.0.3 in c:\\users\\dell\\anaconda3\\lib\\site-packages (from streamlit) (6.3.2)\n",
      "Requirement already satisfied: watchdog<5,>=2.1.5 in c:\\users\\dell\\anaconda3\\lib\\site-packages (from streamlit) (2.1.6)\n",
      "Requirement already satisfied: jinja2 in c:\\users\\dell\\anaconda3\\lib\\site-packages (from altair<6,>=4.0->streamlit) (3.1.2)\n",
      "Requirement already satisfied: jsonschema>=3.0 in c:\\users\\dell\\anaconda3\\lib\\site-packages (from altair<6,>=4.0->streamlit) (4.17.3)\n",
      "Requirement already satisfied: toolz in c:\\users\\dell\\anaconda3\\lib\\site-packages (from altair<6,>=4.0->streamlit) (0.12.0)\n",
      "Requirement already satisfied: colorama in c:\\users\\dell\\anaconda3\\lib\\site-packages (from click<9,>=7.0->streamlit) (0.4.6)\n",
      "Collecting gitdb<5,>=4.0.1 (from gitpython!=3.1.19,<4,>=3.0.7->streamlit)\n",
      "  Obtaining dependency information for gitdb<5,>=4.0.1 from https://files.pythonhosted.org/packages/fd/5b/8f0c4a5bb9fd491c277c21eff7ccae71b47d43c4446c9d0c6cff2fe8c2c4/gitdb-4.0.11-py3-none-any.whl.metadata\n",
      "  Downloading gitdb-4.0.11-py3-none-any.whl.metadata (1.2 kB)\n",
      "Requirement already satisfied: python-dateutil>=2.8.2 in c:\\users\\dell\\anaconda3\\lib\\site-packages (from pandas<3,>=1.3.0->streamlit) (2.8.2)\n",
      "Requirement already satisfied: pytz>=2020.1 in c:\\users\\dell\\anaconda3\\lib\\site-packages (from pandas<3,>=1.3.0->streamlit) (2023.3.post1)\n",
      "Requirement already satisfied: tzdata>=2022.1 in c:\\users\\dell\\anaconda3\\lib\\site-packages (from pandas<3,>=1.3.0->streamlit) (2023.3)\n",
      "Requirement already satisfied: charset-normalizer<4,>=2 in c:\\users\\dell\\anaconda3\\lib\\site-packages (from requests<3,>=2.27->streamlit) (2.0.4)\n",
      "Requirement already satisfied: idna<4,>=2.5 in c:\\users\\dell\\anaconda3\\lib\\site-packages (from requests<3,>=2.27->streamlit) (3.4)\n",
      "Requirement already satisfied: urllib3<3,>=1.21.1 in c:\\users\\dell\\anaconda3\\lib\\site-packages (from requests<3,>=2.27->streamlit) (1.26.16)\n",
      "Requirement already satisfied: certifi>=2017.4.17 in c:\\users\\dell\\anaconda3\\lib\\site-packages (from requests<3,>=2.27->streamlit) (2023.7.22)\n",
      "Requirement already satisfied: markdown-it-py>=2.2.0 in c:\\users\\dell\\anaconda3\\lib\\site-packages (from rich<14,>=10.14.0->streamlit) (2.2.0)\n",
      "Requirement already satisfied: pygments<3.0.0,>=2.13.0 in c:\\users\\dell\\anaconda3\\lib\\site-packages (from rich<14,>=10.14.0->streamlit) (2.15.1)\n",
      "Collecting smmap<6,>=3.0.1 (from gitdb<5,>=4.0.1->gitpython!=3.1.19,<4,>=3.0.7->streamlit)\n",
      "  Obtaining dependency information for smmap<6,>=3.0.1 from https://files.pythonhosted.org/packages/a7/a5/10f97f73544edcdef54409f1d839f6049a0d79df68adbc1ceb24d1aaca42/smmap-5.0.1-py3-none-any.whl.metadata\n",
      "  Downloading smmap-5.0.1-py3-none-any.whl.metadata (4.3 kB)\n",
      "Requirement already satisfied: MarkupSafe>=2.0 in c:\\users\\dell\\anaconda3\\lib\\site-packages (from jinja2->altair<6,>=4.0->streamlit) (2.1.1)\n",
      "Requirement already satisfied: attrs>=17.4.0 in c:\\users\\dell\\anaconda3\\lib\\site-packages (from jsonschema>=3.0->altair<6,>=4.0->streamlit) (22.1.0)\n",
      "Requirement already satisfied: pyrsistent!=0.17.0,!=0.17.1,!=0.17.2,>=0.14.0 in c:\\users\\dell\\anaconda3\\lib\\site-packages (from jsonschema>=3.0->altair<6,>=4.0->streamlit) (0.18.0)\n",
      "Requirement already satisfied: mdurl~=0.1 in c:\\users\\dell\\anaconda3\\lib\\site-packages (from markdown-it-py>=2.2.0->rich<14,>=10.14.0->streamlit) (0.1.0)\n",
      "Requirement already satisfied: six>=1.5 in c:\\users\\dell\\anaconda3\\lib\\site-packages (from python-dateutil>=2.8.2->pandas<3,>=1.3.0->streamlit) (1.16.0)\n",
      "Downloading streamlit-1.37.1-py2.py3-none-any.whl (8.7 MB)\n",
      "   ---------------------------------------- 0.0/8.7 MB ? eta -:--:--\n",
      "   ---------------------------------------- 0.0/8.7 MB 1.4 MB/s eta 0:00:07\n",
      "   ---------------------------------------- 0.1/8.7 MB 656.4 kB/s eta 0:00:14\n",
      "   ---------------------------------------- 0.1/8.7 MB 655.4 kB/s eta 0:00:14\n",
      "    --------------------------------------- 0.1/8.7 MB 654.9 kB/s eta 0:00:14\n",
      "    --------------------------------------- 0.2/8.7 MB 787.7 kB/s eta 0:00:11\n",
      "   - -------------------------------------- 0.2/8.7 MB 765.3 kB/s eta 0:00:12\n",
      "   - -------------------------------------- 0.3/8.7 MB 842.9 kB/s eta 0:00:10\n",
      "   - -------------------------------------- 0.3/8.7 MB 827.2 kB/s eta 0:00:11\n",
      "   - -------------------------------------- 0.4/8.7 MB 849.3 kB/s eta 0:00:10\n",
      "   - -------------------------------------- 0.4/8.7 MB 849.3 kB/s eta 0:00:10\n",
      "   - -------------------------------------- 0.4/8.7 MB 757.8 kB/s eta 0:00:11\n",
      "   -- ------------------------------------- 0.4/8.7 MB 786.3 kB/s eta 0:00:11\n",
      "   -- ------------------------------------- 0.5/8.7 MB 862.0 kB/s eta 0:00:10\n",
      "   -- ------------------------------------- 0.6/8.7 MB 921.0 kB/s eta 0:00:09\n",
      "   --- ------------------------------------ 0.7/8.7 MB 983.8 kB/s eta 0:00:09\n",
      "   --- ------------------------------------ 0.8/8.7 MB 1.0 MB/s eta 0:00:08\n",
      "   ---- ----------------------------------- 0.9/8.7 MB 1.1 MB/s eta 0:00:08\n",
      "   ---- ----------------------------------- 0.9/8.7 MB 1.1 MB/s eta 0:00:08\n",
      "   ---- ----------------------------------- 1.0/8.7 MB 1.1 MB/s eta 0:00:08\n",
      "   ---- ----------------------------------- 1.1/8.7 MB 1.1 MB/s eta 0:00:07\n",
      "   ----- ---------------------------------- 1.1/8.7 MB 1.1 MB/s eta 0:00:07\n",
      "   ----- ---------------------------------- 1.2/8.7 MB 1.2 MB/s eta 0:00:07\n",
      "   ----- ---------------------------------- 1.3/8.7 MB 1.2 MB/s eta 0:00:07\n",
      "   ------ --------------------------------- 1.3/8.7 MB 1.2 MB/s eta 0:00:07\n",
      "   ------ --------------------------------- 1.4/8.7 MB 1.2 MB/s eta 0:00:07\n",
      "   ------ --------------------------------- 1.4/8.7 MB 1.2 MB/s eta 0:00:07\n",
      "   ------ --------------------------------- 1.5/8.7 MB 1.2 MB/s eta 0:00:06\n",
      "   ------ --------------------------------- 1.5/8.7 MB 1.2 MB/s eta 0:00:06\n",
      "   ------- -------------------------------- 1.6/8.7 MB 1.2 MB/s eta 0:00:07\n",
      "   ------- -------------------------------- 1.7/8.7 MB 1.2 MB/s eta 0:00:06\n",
      "   ------- -------------------------------- 1.7/8.7 MB 1.2 MB/s eta 0:00:06\n",
      "   -------- ------------------------------- 1.8/8.7 MB 1.2 MB/s eta 0:00:06\n",
      "   -------- ------------------------------- 1.9/8.7 MB 1.2 MB/s eta 0:00:06\n",
      "   --------- ------------------------------ 2.0/8.7 MB 1.3 MB/s eta 0:00:06\n",
      "   ---------- ----------------------------- 2.2/8.7 MB 1.3 MB/s eta 0:00:05\n",
      "   ---------- ----------------------------- 2.3/8.7 MB 1.4 MB/s eta 0:00:05\n",
      "   ---------- ----------------------------- 2.3/8.7 MB 1.4 MB/s eta 0:00:05\n",
      "   ---------- ----------------------------- 2.4/8.7 MB 1.3 MB/s eta 0:00:05\n",
      "   ----------- ---------------------------- 2.5/8.7 MB 1.4 MB/s eta 0:00:05\n",
      "   ----------- ---------------------------- 2.5/8.7 MB 1.4 MB/s eta 0:00:05\n",
      "   ----------- ---------------------------- 2.6/8.7 MB 1.3 MB/s eta 0:00:05\n",
      "   ------------ --------------------------- 2.7/8.7 MB 1.4 MB/s eta 0:00:05\n",
      "   ------------ --------------------------- 2.8/8.7 MB 1.4 MB/s eta 0:00:05\n",
      "   ------------- -------------------------- 2.9/8.7 MB 1.4 MB/s eta 0:00:05\n",
      "   -------------- ------------------------- 3.1/8.7 MB 1.5 MB/s eta 0:00:04\n",
      "   -------------- ------------------------- 3.1/8.7 MB 1.4 MB/s eta 0:00:04\n",
      "   -------------- ------------------------- 3.2/8.7 MB 1.5 MB/s eta 0:00:04\n",
      "   --------------- ------------------------ 3.3/8.7 MB 1.5 MB/s eta 0:00:04\n",
      "   --------------- ------------------------ 3.4/8.7 MB 1.5 MB/s eta 0:00:04\n",
      "   --------------- ------------------------ 3.4/8.7 MB 1.5 MB/s eta 0:00:04\n",
      "   ---------------- ----------------------- 3.6/8.7 MB 1.5 MB/s eta 0:00:04\n",
      "   ----------------- ---------------------- 3.7/8.7 MB 1.5 MB/s eta 0:00:04\n",
      "   ----------------- ---------------------- 3.8/8.7 MB 1.5 MB/s eta 0:00:04\n",
      "   ------------------ --------------------- 3.9/8.7 MB 1.6 MB/s eta 0:00:04\n",
      "   ------------------ --------------------- 3.9/8.7 MB 1.6 MB/s eta 0:00:04\n",
      "   ------------------ --------------------- 4.0/8.7 MB 1.5 MB/s eta 0:00:04\n",
      "   ------------------- -------------------- 4.2/8.7 MB 1.6 MB/s eta 0:00:03\n",
      "   ------------------- -------------------- 4.3/8.7 MB 1.6 MB/s eta 0:00:03\n",
      "   -------------------- ------------------- 4.4/8.7 MB 1.6 MB/s eta 0:00:03\n",
      "   -------------------- ------------------- 4.4/8.7 MB 1.6 MB/s eta 0:00:03\n",
      "   -------------------- ------------------- 4.4/8.7 MB 1.6 MB/s eta 0:00:03\n",
      "   --------------------- ------------------ 4.6/8.7 MB 1.6 MB/s eta 0:00:03\n",
      "   --------------------- ------------------ 4.6/8.7 MB 1.6 MB/s eta 0:00:03\n",
      "   --------------------- ------------------ 4.6/8.7 MB 1.6 MB/s eta 0:00:03\n",
      "   ---------------------- ----------------- 4.8/8.7 MB 1.6 MB/s eta 0:00:03\n",
      "   ---------------------- ----------------- 4.9/8.7 MB 1.6 MB/s eta 0:00:03\n",
      "   ---------------------- ----------------- 4.9/8.7 MB 1.6 MB/s eta 0:00:03\n",
      "   ----------------------- ---------------- 5.0/8.7 MB 1.6 MB/s eta 0:00:03\n",
      "   ----------------------- ---------------- 5.2/8.7 MB 1.6 MB/s eta 0:00:03\n",
      "   ------------------------ --------------- 5.3/8.7 MB 1.6 MB/s eta 0:00:03\n",
      "   ------------------------- -------------- 5.5/8.7 MB 1.7 MB/s eta 0:00:02\n",
      "   ------------------------- -------------- 5.6/8.7 MB 1.7 MB/s eta 0:00:02\n",
      "   -------------------------- ------------- 5.7/8.7 MB 1.7 MB/s eta 0:00:02\n",
      "   -------------------------- ------------- 5.7/8.7 MB 1.7 MB/s eta 0:00:02\n",
      "   -------------------------- ------------- 5.8/8.7 MB 1.7 MB/s eta 0:00:02\n",
      "   --------------------------- ------------ 5.9/8.7 MB 1.7 MB/s eta 0:00:02\n",
      "   --------------------------- ------------ 6.1/8.7 MB 1.7 MB/s eta 0:00:02\n",
      "   ---------------------------- ----------- 6.2/8.7 MB 1.7 MB/s eta 0:00:02\n",
      "   ---------------------------- ----------- 6.2/8.7 MB 1.7 MB/s eta 0:00:02\n",
      "   ----------------------------- ---------- 6.3/8.7 MB 1.7 MB/s eta 0:00:02\n",
      "   ----------------------------- ---------- 6.5/8.7 MB 1.7 MB/s eta 0:00:02\n",
      "   ----------------------------- ---------- 6.5/8.7 MB 1.7 MB/s eta 0:00:02\n",
      "   ------------------------------ --------- 6.5/8.7 MB 1.7 MB/s eta 0:00:02\n",
      "   ------------------------------ --------- 6.7/8.7 MB 1.7 MB/s eta 0:00:02\n",
      "   ------------------------------- -------- 6.8/8.7 MB 1.7 MB/s eta 0:00:02\n",
      "   -------------------------------- ------- 7.0/8.7 MB 1.7 MB/s eta 0:00:01\n",
      "   --------------------------------- ------ 7.2/8.7 MB 1.8 MB/s eta 0:00:01\n",
      "   --------------------------------- ------ 7.3/8.7 MB 1.8 MB/s eta 0:00:01\n",
      "   ---------------------------------- ----- 7.5/8.7 MB 1.8 MB/s eta 0:00:01\n",
      "   ---------------------------------- ----- 7.6/8.7 MB 1.8 MB/s eta 0:00:01\n",
      "   ----------------------------------- ---- 7.6/8.7 MB 1.8 MB/s eta 0:00:01\n",
      "   ----------------------------------- ---- 7.7/8.7 MB 1.8 MB/s eta 0:00:01\n",
      "   ------------------------------------ --- 7.8/8.7 MB 1.8 MB/s eta 0:00:01\n",
      "   ------------------------------------ --- 7.8/8.7 MB 1.8 MB/s eta 0:00:01\n",
      "   ------------------------------------ --- 8.0/8.7 MB 1.8 MB/s eta 0:00:01\n",
      "   ------------------------------------- -- 8.1/8.7 MB 1.8 MB/s eta 0:00:01\n",
      "   ------------------------------------- -- 8.1/8.7 MB 1.8 MB/s eta 0:00:01\n",
      "   ------------------------------------- -- 8.1/8.7 MB 1.8 MB/s eta 0:00:01\n",
      "   ------------------------------------- -- 8.1/8.7 MB 1.8 MB/s eta 0:00:01\n",
      "   ------------------------------------- -- 8.2/8.7 MB 1.7 MB/s eta 0:00:01\n",
      "   -------------------------------------- - 8.3/8.7 MB 1.7 MB/s eta 0:00:01\n",
      "   -------------------------------------- - 8.4/8.7 MB 1.8 MB/s eta 0:00:01\n",
      "   ---------------------------------------  8.4/8.7 MB 1.8 MB/s eta 0:00:01\n",
      "   ---------------------------------------  8.6/8.7 MB 1.8 MB/s eta 0:00:01\n",
      "   ---------------------------------------  8.6/8.7 MB 1.8 MB/s eta 0:00:01\n",
      "   ---------------------------------------- 8.7/8.7 MB 1.7 MB/s eta 0:00:00\n",
      "Downloading altair-5.3.0-py3-none-any.whl (857 kB)\n",
      "   ---------------------------------------- 0.0/857.8 kB ? eta -:--:--\n",
      "   ------ --------------------------------- 143.4/857.8 kB 2.8 MB/s eta 0:00:01\n",
      "   --------------- ------------------------ 337.9/857.8 kB 3.5 MB/s eta 0:00:01\n",
      "   ----------------------- ---------------- 501.8/857.8 kB 3.5 MB/s eta 0:00:01\n",
      "   ------------------------------- -------- 686.1/857.8 kB 3.6 MB/s eta 0:00:01\n",
      "   ---------------------------------------- 857.8/857.8 kB 3.6 MB/s eta 0:00:00\n",
      "Downloading blinker-1.8.2-py3-none-any.whl (9.5 kB)\n",
      "Downloading cachetools-5.4.0-py3-none-any.whl (9.5 kB)\n",
      "Downloading GitPython-3.1.43-py3-none-any.whl (207 kB)\n",
      "   ---------------------------------------- 0.0/207.3 kB ? eta -:--:--\n",
      "   ---------------------------------------- 207.3/207.3 kB 4.3 MB/s eta 0:00:00\n",
      "Downloading pydeck-0.9.1-py2.py3-none-any.whl (6.9 MB)\n",
      "   ---------------------------------------- 0.0/6.9 MB ? eta -:--:--\n",
      "    --------------------------------------- 0.1/6.9 MB 2.8 MB/s eta 0:00:03\n",
      "   - -------------------------------------- 0.3/6.9 MB 2.9 MB/s eta 0:00:03\n",
      "   -- ------------------------------------- 0.4/6.9 MB 2.9 MB/s eta 0:00:03\n",
      "   --- ------------------------------------ 0.6/6.9 MB 3.0 MB/s eta 0:00:03\n",
      "   ---- ----------------------------------- 0.8/6.9 MB 3.3 MB/s eta 0:00:02\n",
      "   ----- ---------------------------------- 0.9/6.9 MB 3.2 MB/s eta 0:00:02\n",
      "   ------ --------------------------------- 1.1/6.9 MB 3.4 MB/s eta 0:00:02\n",
      "   -------- ------------------------------- 1.4/6.9 MB 3.5 MB/s eta 0:00:02\n",
      "   -------- ------------------------------- 1.5/6.9 MB 3.5 MB/s eta 0:00:02\n",
      "   --------- ------------------------------ 1.6/6.9 MB 3.3 MB/s eta 0:00:02\n",
      "   ---------- ----------------------------- 1.8/6.9 MB 3.4 MB/s eta 0:00:02\n",
      "   ----------- ---------------------------- 1.9/6.9 MB 3.3 MB/s eta 0:00:02\n",
      "   ----------- ---------------------------- 2.0/6.9 MB 3.3 MB/s eta 0:00:02\n",
      "   ------------ --------------------------- 2.1/6.9 MB 3.2 MB/s eta 0:00:02\n",
      "   ------------ --------------------------- 2.2/6.9 MB 3.1 MB/s eta 0:00:02\n",
      "   ------------- -------------------------- 2.3/6.9 MB 3.0 MB/s eta 0:00:02\n",
      "   -------------- ------------------------- 2.4/6.9 MB 3.0 MB/s eta 0:00:02\n",
      "   --------------- ------------------------ 2.6/6.9 MB 3.0 MB/s eta 0:00:02\n",
      "   --------------- ------------------------ 2.6/6.9 MB 3.0 MB/s eta 0:00:02\n",
      "   ---------------- ----------------------- 2.8/6.9 MB 2.9 MB/s eta 0:00:02\n",
      "   ----------------- ---------------------- 2.9/6.9 MB 2.9 MB/s eta 0:00:02\n",
      "   ----------------- ---------------------- 3.0/6.9 MB 2.9 MB/s eta 0:00:02\n",
      "   ----------------- ---------------------- 3.1/6.9 MB 2.8 MB/s eta 0:00:02\n",
      "   ------------------ --------------------- 3.2/6.9 MB 2.8 MB/s eta 0:00:02\n",
      "   ------------------- -------------------- 3.4/6.9 MB 2.8 MB/s eta 0:00:02\n",
      "   ------------------- -------------------- 3.4/6.9 MB 2.8 MB/s eta 0:00:02\n",
      "   -------------------- ------------------- 3.6/6.9 MB 2.8 MB/s eta 0:00:02\n",
      "   ---------------------- ----------------- 3.8/6.9 MB 2.9 MB/s eta 0:00:02\n",
      "   ---------------------- ----------------- 3.8/6.9 MB 2.9 MB/s eta 0:00:02\n",
      "   ---------------------- ----------------- 3.9/6.9 MB 2.7 MB/s eta 0:00:02\n",
      "   ----------------------- ---------------- 4.1/6.9 MB 2.8 MB/s eta 0:00:02\n",
      "   ----------------------- ---------------- 4.1/6.9 MB 2.7 MB/s eta 0:00:02\n",
      "   ------------------------ --------------- 4.1/6.9 MB 2.7 MB/s eta 0:00:02\n",
      "   ------------------------ --------------- 4.3/6.9 MB 2.7 MB/s eta 0:00:01\n",
      "   ------------------------- -------------- 4.5/6.9 MB 2.7 MB/s eta 0:00:01\n",
      "   -------------------------- ------------- 4.5/6.9 MB 2.7 MB/s eta 0:00:01\n",
      "   -------------------------- ------------- 4.5/6.9 MB 2.6 MB/s eta 0:00:01\n",
      "   --------------------------- ------------ 4.7/6.9 MB 2.6 MB/s eta 0:00:01\n",
      "   --------------------------- ------------ 4.8/6.9 MB 2.6 MB/s eta 0:00:01\n",
      "   --------------------------- ------------ 4.8/6.9 MB 2.6 MB/s eta 0:00:01\n",
      "   --------------------------- ------------ 4.8/6.9 MB 2.5 MB/s eta 0:00:01\n",
      "   ----------------------------- ---------- 5.0/6.9 MB 2.5 MB/s eta 0:00:01\n",
      "   ----------------------------- ---------- 5.1/6.9 MB 2.5 MB/s eta 0:00:01\n",
      "   ------------------------------ --------- 5.3/6.9 MB 2.5 MB/s eta 0:00:01\n",
      "   ------------------------------- -------- 5.4/6.9 MB 2.6 MB/s eta 0:00:01\n",
      "   -------------------------------- ------- 5.5/6.9 MB 2.5 MB/s eta 0:00:01\n",
      "   -------------------------------- ------- 5.7/6.9 MB 2.6 MB/s eta 0:00:01\n",
      "   --------------------------------- ------ 5.8/6.9 MB 2.6 MB/s eta 0:00:01\n",
      "   ---------------------------------- ----- 6.0/6.9 MB 2.6 MB/s eta 0:00:01\n",
      "   ------------------------------------ --- 6.2/6.9 MB 2.6 MB/s eta 0:00:01\n",
      "   ------------------------------------ --- 6.3/6.9 MB 2.6 MB/s eta 0:00:01\n",
      "   ------------------------------------ --- 6.3/6.9 MB 2.6 MB/s eta 0:00:01\n",
      "   ------------------------------------ --- 6.3/6.9 MB 2.5 MB/s eta 0:00:01\n",
      "   ------------------------------------- -- 6.4/6.9 MB 2.5 MB/s eta 0:00:01\n",
      "   ------------------------------------- -- 6.5/6.9 MB 2.5 MB/s eta 0:00:01\n",
      "   -------------------------------------- - 6.6/6.9 MB 2.5 MB/s eta 0:00:01\n",
      "   ---------------------------------------  6.8/6.9 MB 2.5 MB/s eta 0:00:01\n",
      "   ---------------------------------------  6.9/6.9 MB 2.5 MB/s eta 0:00:01\n",
      "   ---------------------------------------  6.9/6.9 MB 2.5 MB/s eta 0:00:01\n",
      "   ---------------------------------------- 6.9/6.9 MB 2.5 MB/s eta 0:00:00\n",
      "Downloading gitdb-4.0.11-py3-none-any.whl (62 kB)\n",
      "   ---------------------------------------- 0.0/62.7 kB ? eta -:--:--\n",
      "   ---------------------------------------- 62.7/62.7 kB 3.3 MB/s eta 0:00:00\n",
      "Downloading smmap-5.0.1-py3-none-any.whl (24 kB)\n",
      "Installing collected packages: smmap, cachetools, blinker, pydeck, gitdb, gitpython, altair, streamlit\n",
      "Successfully installed altair-5.3.0 blinker-1.8.2 cachetools-5.4.0 gitdb-4.0.11 gitpython-3.1.43 pydeck-0.9.1 smmap-5.0.1 streamlit-1.37.1\n",
      "Note: you may need to restart the kernel to use updated packages.\n"
     ]
    }
   ],
   "source": [
    "pip install streamlit"
   ]
  },
  {
   "cell_type": "code",
   "execution_count": null,
   "id": "b30d6170",
   "metadata": {},
   "outputs": [],
   "source": []
  }
 ],
 "metadata": {
  "kernelspec": {
   "display_name": "Python 3 (ipykernel)",
   "language": "python",
   "name": "python3"
  },
  "language_info": {
   "codemirror_mode": {
    "name": "ipython",
    "version": 3
   },
   "file_extension": ".py",
   "mimetype": "text/x-python",
   "name": "python",
   "nbconvert_exporter": "python",
   "pygments_lexer": "ipython3",
   "version": "3.11.5"
  }
 },
 "nbformat": 4,
 "nbformat_minor": 5
}
